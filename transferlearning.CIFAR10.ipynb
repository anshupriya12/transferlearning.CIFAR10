{
 "cells": [
  {
   "cell_type": "code",
   "execution_count": 1,
   "id": "7cb90e5b",
   "metadata": {},
   "outputs": [
    {
     "name": "stdout",
     "output_type": "stream",
     "text": [
      "Defaulting to user installation because normal site-packages is not writeable\n",
      "Requirement already satisfied: tensorflow in c:\\programdata\\anaconda3\\lib\\site-packages (2.15.0)\n",
      "Requirement already satisfied: tensorflow-intel==2.15.0 in c:\\programdata\\anaconda3\\lib\\site-packages (from tensorflow) (2.15.0)\n",
      "Requirement already satisfied: absl-py>=1.0.0 in c:\\programdata\\anaconda3\\lib\\site-packages (from tensorflow-intel==2.15.0->tensorflow) (2.1.0)\n",
      "Requirement already satisfied: astunparse>=1.6.0 in c:\\programdata\\anaconda3\\lib\\site-packages (from tensorflow-intel==2.15.0->tensorflow) (1.6.3)\n",
      "Requirement already satisfied: flatbuffers>=23.5.26 in c:\\programdata\\anaconda3\\lib\\site-packages (from tensorflow-intel==2.15.0->tensorflow) (23.5.26)\n",
      "Requirement already satisfied: gast!=0.5.0,!=0.5.1,!=0.5.2,>=0.2.1 in c:\\programdata\\anaconda3\\lib\\site-packages (from tensorflow-intel==2.15.0->tensorflow) (0.5.4)\n",
      "Requirement already satisfied: google-pasta>=0.1.1 in c:\\programdata\\anaconda3\\lib\\site-packages (from tensorflow-intel==2.15.0->tensorflow) (0.2.0)\n",
      "Requirement already satisfied: h5py>=2.9.0 in c:\\programdata\\anaconda3\\lib\\site-packages (from tensorflow-intel==2.15.0->tensorflow) (3.9.0)\n",
      "Requirement already satisfied: libclang>=13.0.0 in c:\\programdata\\anaconda3\\lib\\site-packages (from tensorflow-intel==2.15.0->tensorflow) (16.0.6)\n",
      "Requirement already satisfied: ml-dtypes~=0.2.0 in c:\\programdata\\anaconda3\\lib\\site-packages (from tensorflow-intel==2.15.0->tensorflow) (0.2.0)\n",
      "Requirement already satisfied: numpy<2.0.0,>=1.23.5 in c:\\programdata\\anaconda3\\lib\\site-packages (from tensorflow-intel==2.15.0->tensorflow) (1.24.3)\n",
      "Requirement already satisfied: opt-einsum>=2.3.2 in c:\\programdata\\anaconda3\\lib\\site-packages (from tensorflow-intel==2.15.0->tensorflow) (3.3.0)\n",
      "Requirement already satisfied: packaging in c:\\programdata\\anaconda3\\lib\\site-packages (from tensorflow-intel==2.15.0->tensorflow) (23.1)\n",
      "Requirement already satisfied: protobuf!=4.21.0,!=4.21.1,!=4.21.2,!=4.21.3,!=4.21.4,!=4.21.5,<5.0.0dev,>=3.20.3 in c:\\programdata\\anaconda3\\lib\\site-packages (from tensorflow-intel==2.15.0->tensorflow) (4.23.4)\n",
      "Requirement already satisfied: setuptools in c:\\programdata\\anaconda3\\lib\\site-packages (from tensorflow-intel==2.15.0->tensorflow) (68.0.0)\n",
      "Requirement already satisfied: six>=1.12.0 in c:\\programdata\\anaconda3\\lib\\site-packages (from tensorflow-intel==2.15.0->tensorflow) (1.16.0)\n",
      "Requirement already satisfied: termcolor>=1.1.0 in c:\\programdata\\anaconda3\\lib\\site-packages (from tensorflow-intel==2.15.0->tensorflow) (2.4.0)\n",
      "Requirement already satisfied: typing-extensions>=3.6.6 in c:\\programdata\\anaconda3\\lib\\site-packages (from tensorflow-intel==2.15.0->tensorflow) (4.7.1)\n",
      "Requirement already satisfied: wrapt<1.15,>=1.11.0 in c:\\programdata\\anaconda3\\lib\\site-packages (from tensorflow-intel==2.15.0->tensorflow) (1.14.1)\n",
      "Requirement already satisfied: tensorflow-io-gcs-filesystem>=0.23.1 in c:\\programdata\\anaconda3\\lib\\site-packages (from tensorflow-intel==2.15.0->tensorflow) (0.31.0)\n",
      "Requirement already satisfied: grpcio<2.0,>=1.24.3 in c:\\programdata\\anaconda3\\lib\\site-packages (from tensorflow-intel==2.15.0->tensorflow) (1.60.0)\n",
      "Requirement already satisfied: tensorboard<2.16,>=2.15 in c:\\programdata\\anaconda3\\lib\\site-packages (from tensorflow-intel==2.15.0->tensorflow) (2.15.1)\n",
      "Requirement already satisfied: tensorflow-estimator<2.16,>=2.15.0 in c:\\programdata\\anaconda3\\lib\\site-packages (from tensorflow-intel==2.15.0->tensorflow) (2.15.0)\n",
      "Requirement already satisfied: keras<2.16,>=2.15.0 in c:\\programdata\\anaconda3\\lib\\site-packages (from tensorflow-intel==2.15.0->tensorflow) (2.15.0)\n",
      "Requirement already satisfied: wheel<1.0,>=0.23.0 in c:\\programdata\\anaconda3\\lib\\site-packages (from astunparse>=1.6.0->tensorflow-intel==2.15.0->tensorflow) (0.38.4)\n",
      "Requirement already satisfied: google-auth<3,>=1.6.3 in c:\\programdata\\anaconda3\\lib\\site-packages (from tensorboard<2.16,>=2.15->tensorflow-intel==2.15.0->tensorflow) (2.26.2)\n",
      "Requirement already satisfied: google-auth-oauthlib<2,>=0.5 in c:\\programdata\\anaconda3\\lib\\site-packages (from tensorboard<2.16,>=2.15->tensorflow-intel==2.15.0->tensorflow) (1.2.0)\n",
      "Requirement already satisfied: markdown>=2.6.8 in c:\\programdata\\anaconda3\\lib\\site-packages (from tensorboard<2.16,>=2.15->tensorflow-intel==2.15.0->tensorflow) (3.4.1)\n",
      "Requirement already satisfied: requests<3,>=2.21.0 in c:\\programdata\\anaconda3\\lib\\site-packages (from tensorboard<2.16,>=2.15->tensorflow-intel==2.15.0->tensorflow) (2.31.0)\n",
      "Requirement already satisfied: tensorboard-data-server<0.8.0,>=0.7.0 in c:\\programdata\\anaconda3\\lib\\site-packages (from tensorboard<2.16,>=2.15->tensorflow-intel==2.15.0->tensorflow) (0.7.2)\n",
      "Requirement already satisfied: werkzeug>=1.0.1 in c:\\programdata\\anaconda3\\lib\\site-packages (from tensorboard<2.16,>=2.15->tensorflow-intel==2.15.0->tensorflow) (2.2.3)\n",
      "Requirement already satisfied: cachetools<6.0,>=2.0.0 in c:\\programdata\\anaconda3\\lib\\site-packages (from google-auth<3,>=1.6.3->tensorboard<2.16,>=2.15->tensorflow-intel==2.15.0->tensorflow) (5.3.2)\n",
      "Requirement already satisfied: pyasn1-modules>=0.2.1 in c:\\programdata\\anaconda3\\lib\\site-packages (from google-auth<3,>=1.6.3->tensorboard<2.16,>=2.15->tensorflow-intel==2.15.0->tensorflow) (0.2.8)\n",
      "Requirement already satisfied: rsa<5,>=3.1.4 in c:\\programdata\\anaconda3\\lib\\site-packages (from google-auth<3,>=1.6.3->tensorboard<2.16,>=2.15->tensorflow-intel==2.15.0->tensorflow) (4.9)\n",
      "Requirement already satisfied: requests-oauthlib>=0.7.0 in c:\\programdata\\anaconda3\\lib\\site-packages (from google-auth-oauthlib<2,>=0.5->tensorboard<2.16,>=2.15->tensorflow-intel==2.15.0->tensorflow) (1.3.1)\n",
      "Requirement already satisfied: charset-normalizer<4,>=2 in c:\\programdata\\anaconda3\\lib\\site-packages (from requests<3,>=2.21.0->tensorboard<2.16,>=2.15->tensorflow-intel==2.15.0->tensorflow) (2.0.4)\n",
      "Requirement already satisfied: idna<4,>=2.5 in c:\\programdata\\anaconda3\\lib\\site-packages (from requests<3,>=2.21.0->tensorboard<2.16,>=2.15->tensorflow-intel==2.15.0->tensorflow) (3.4)\n",
      "Requirement already satisfied: urllib3<3,>=1.21.1 in c:\\programdata\\anaconda3\\lib\\site-packages (from requests<3,>=2.21.0->tensorboard<2.16,>=2.15->tensorflow-intel==2.15.0->tensorflow) (1.26.16)\n",
      "Requirement already satisfied: certifi>=2017.4.17 in c:\\programdata\\anaconda3\\lib\\site-packages (from requests<3,>=2.21.0->tensorboard<2.16,>=2.15->tensorflow-intel==2.15.0->tensorflow) (2023.7.22)\n",
      "Requirement already satisfied: MarkupSafe>=2.1.1 in c:\\programdata\\anaconda3\\lib\\site-packages (from werkzeug>=1.0.1->tensorboard<2.16,>=2.15->tensorflow-intel==2.15.0->tensorflow) (2.1.1)\n",
      "Requirement already satisfied: pyasn1<0.5.0,>=0.4.6 in c:\\programdata\\anaconda3\\lib\\site-packages (from pyasn1-modules>=0.2.1->google-auth<3,>=1.6.3->tensorboard<2.16,>=2.15->tensorflow-intel==2.15.0->tensorflow) (0.4.8)\n",
      "Requirement already satisfied: oauthlib>=3.0.0 in c:\\programdata\\anaconda3\\lib\\site-packages (from requests-oauthlib>=0.7.0->google-auth-oauthlib<2,>=0.5->tensorboard<2.16,>=2.15->tensorflow-intel==2.15.0->tensorflow) (3.2.2)\n",
      "WARNING:tensorflow:From C:\\ProgramData\\anaconda3\\Lib\\site-packages\\keras\\src\\losses.py:2976: The name tf.losses.sparse_softmax_cross_entropy is deprecated. Please use tf.compat.v1.losses.sparse_softmax_cross_entropy instead.\n",
      "\n"
     ]
    }
   ],
   "source": [
    "!pip install tensorflow\n",
    "import numpy as np\n",
    "import random\n",
    "import os\n",
    "from sklearn.model_selection import train_test_split\n",
    "from sklearn.preprocessing import LabelBinarizer\n",
    "from sklearn.model_selection import train_test_split\n",
    "from sklearn.utils import shuffle\n",
    "from sklearn.metrics import accuracy_score\n",
    "from tqdm import tqdm\n",
    "import time\n",
    "\n",
    "import tensorflow as tf\n",
    "from tensorflow.keras.models import Sequential\n",
    "from tensorflow.keras.layers import Conv2D\n",
    "from tensorflow.keras.layers import MaxPooling2D\n",
    "from tensorflow.keras.layers import Activation\n",
    "from tensorflow.keras.layers import Flatten\n",
    "from tensorflow.keras.layers import Dense\n",
    "from tensorflow.keras.optimizers import SGD\n",
    "from tensorflow.keras import backend as K"
   ]
  },
  {
   "cell_type": "code",
   "execution_count": 2,
   "id": "82e7e25b",
   "metadata": {},
   "outputs": [
    {
     "name": "stdout",
     "output_type": "stream",
     "text": [
      "x_train shape: (50000, 32, 32, 3), y_train shape: (50000, 1)\n",
      "x_test shape: (10000, 32, 32, 3), y_test shape: (10000, 1)\n"
     ]
    }
   ],
   "source": [
    "import tensorflow as tf\n",
    "from tensorflow.keras.datasets import cifar10\n",
    "from tensorflow import keras\n",
    "\n",
    "# Load CIFAR-10 dataset\n",
    "(x_train, y_train), (x_test, y_test) = cifar10.load_data()\n",
    "\n",
    "# Normalize pixel values to be between 0 and 1\n",
    "x_train, x_test = x_train / 255.0, x_test / 255.0\n",
    "\n",
    "# Print the shapes of the loaded data\n",
    "print(f\"x_train shape: {x_train.shape}, y_train shape: {y_train.shape}\")\n",
    "print(f\"x_test shape: {x_test.shape}, y_test shape: {y_test.shape}\")"
   ]
  },
  {
   "cell_type": "code",
   "execution_count": 3,
   "id": "991c3440",
   "metadata": {},
   "outputs": [
    {
     "name": "stdout",
     "output_type": "stream",
     "text": [
      "WARNING:tensorflow:From C:\\ProgramData\\anaconda3\\Lib\\site-packages\\keras\\src\\backend.py:1398: The name tf.executing_eagerly_outside_functions is deprecated. Please use tf.compat.v1.executing_eagerly_outside_functions instead.\n",
      "\n",
      "WARNING:tensorflow:From C:\\ProgramData\\anaconda3\\Lib\\site-packages\\keras\\src\\layers\\pooling\\max_pooling2d.py:161: The name tf.nn.max_pool is deprecated. Please use tf.nn.max_pool2d instead.\n",
      "\n",
      "Model: \"sequential\"\n",
      "_________________________________________________________________\n",
      " Layer (type)                Output Shape              Param #   \n",
      "=================================================================\n",
      " vgg19 (Functional)          (None, 1, 1, 512)         20024384  \n",
      "                                                                 \n",
      " global_average_pooling2d (  (None, 512)               0         \n",
      " GlobalAveragePooling2D)                                         \n",
      "                                                                 \n",
      " dense (Dense)               (None, 512)               262656    \n",
      "                                                                 \n",
      " dense_1 (Dense)             (None, 10)                5130      \n",
      "                                                                 \n",
      "=================================================================\n",
      "Total params: 20292170 (77.41 MB)\n",
      "Trainable params: 9707018 (37.03 MB)\n",
      "Non-trainable params: 10585152 (40.38 MB)\n",
      "_________________________________________________________________\n"
     ]
    }
   ],
   "source": [
    "import tensorflow as tf\n",
    "\n",
    "class SimpleMLP:\n",
    "    @staticmethod\n",
    "    def build():\n",
    "        # Load the pre-trained VGG19 model\n",
    "        base_model = tf.keras.applications.VGG19(\n",
    "            include_top=False, weights='imagenet', input_shape=(32, 32, 3)\n",
    "        )\n",
    "        \n",
    "        # Freeze all layers except the last two convolutional layers and the classification layer\n",
    "        for layer in base_model.layers[:-5]:\n",
    "            layer.trainable = False\n",
    "        \n",
    "        # Create custom classification layers on top of the base model\n",
    "        model = tf.keras.models.Sequential([\n",
    "            base_model,\n",
    "            tf.keras.layers.GlobalAveragePooling2D(),\n",
    "            tf.keras.layers.Dense(512, activation='relu'),\n",
    "            tf.keras.layers.Dense(10, activation='softmax')  # Adjust the number of output classes accordingly\n",
    "        ])\n",
    "        \n",
    "        # Create an optimizer with the specified learning rate\n",
    "        custom_optimizer = tf.keras.optimizers.Adam(learning_rate=0.01)\n",
    "        \n",
    "        # Compile the model with the custom optimizer\n",
    "        model.compile(\n",
    "            optimizer=custom_optimizer,\n",
    "            loss='categorical_crossentropy',\n",
    "            metrics=['accuracy']\n",
    "        )\n",
    "        \n",
    "        return model\n",
    "\n",
    "# Create an instance of the SimpleMLP class\n",
    "simple_mlp_model = SimpleMLP.build()\n",
    "\n",
    "# Display the model summary\n",
    "simple_mlp_model.summary()\n",
    "\n"
   ]
  },
  {
   "cell_type": "code",
   "execution_count": null,
   "id": "3b4cc1bb",
   "metadata": {},
   "outputs": [],
   "source": []
  },
  {
   "cell_type": "code",
   "execution_count": 4,
   "id": "9eae6605",
   "metadata": {},
   "outputs": [
    {
     "data": {
      "text/plain": [
       "numpy.ndarray"
      ]
     },
     "execution_count": 4,
     "metadata": {},
     "output_type": "execute_result"
    }
   ],
   "source": [
    "type(x_train)"
   ]
  },
  {
   "cell_type": "code",
   "execution_count": 5,
   "id": "6cf2a736",
   "metadata": {},
   "outputs": [
    {
     "name": "stdout",
     "output_type": "stream",
     "text": [
      "Defaulting to user installation because normal site-packages is not writeable\n",
      "Requirement already satisfied: numpy in c:\\programdata\\anaconda3\\lib\\site-packages (1.24.3)\n"
     ]
    }
   ],
   "source": [
    "!pip install numpy\n",
    "\n",
    "import numpy as np\n",
    "x_train_array = np.array(x_train)\n"
   ]
  },
  {
   "cell_type": "code",
   "execution_count": 7,
   "id": "72ab3fb9",
   "metadata": {},
   "outputs": [
    {
     "data": {
      "text/plain": [
       "numpy.ndarray"
      ]
     },
     "execution_count": 7,
     "metadata": {},
     "output_type": "execute_result"
    }
   ],
   "source": [
    "type(y_test)\n",
    "type(x_test)\n",
    "type(y_train)"
   ]
  },
  {
   "cell_type": "code",
   "execution_count": 8,
   "id": "4051637f",
   "metadata": {},
   "outputs": [
    {
     "data": {
      "text/plain": [
       "<matplotlib.image.AxesImage at 0x26bcf54cc50>"
      ]
     },
     "execution_count": 8,
     "metadata": {},
     "output_type": "execute_result"
    },
    {
     "data": {
      "image/png": "[encoded data removed]",
      "text/plain": [
       "<Figure size 640x480 with 1 Axes>"
      ]
     },
     "metadata": {},
     "output_type": "display_data"
    }
   ],
   "source": [
    "\n",
    "import matplotlib.pyplot as plt\n",
    "plt.imshow(x_train[0])"
   ]
  },
  {
   "cell_type": "code",
   "execution_count": 9,
   "id": "ea4a3c3b",
   "metadata": {},
   "outputs": [],
   "source": [
    "train1=x_train[0:9000]\n",
    "label1=y_train[0:9000]\n",
    "train2=x_train[9000:22000]\n",
    "label2=y_train[9000:22000]\n",
    "train3=x_train[22000:38000]\n",
    "label3=y_train[22000:38000]\n",
    "train4=x_train[38000:50000]\n",
    "label4=y_train[38000:50000]"
   ]
  },
  {
   "cell_type": "code",
   "execution_count": 10,
   "id": "fa0b070d",
   "metadata": {},
   "outputs": [],
   "source": [
    "from keras.utils import to_categorical\n",
    "import numpy as np\n",
    "\n",
    "#convert labels to one-hot encoding\n",
    "label1 = to_categorical(label1)\n",
    "label2 = to_categorical(label2)\n",
    "\n",
    "label3 = to_categorical(label3)\n",
    "label4 = to_categorical(label4)\n",
    "y_test=to_categorical(y_test)"
   ]
  },
  {
   "cell_type": "code",
   "execution_count": 11,
   "id": "bdaaf53a",
   "metadata": {},
   "outputs": [],
   "source": [
    "# def create_clients(data_list, label_list, num_clients=4, initial='clients'):\n",
    "#     ''' return: a dictionary with keys clients' names and value as\n",
    "#                 data shards - tuple of datas and label lists.\n",
    "#         args:\n",
    "#             data_list: a list of numpy arrays of training data\n",
    "#             label_list:a list of binarized labels for each data\n",
    "#             num_client: number of fedrated members (clients)\n",
    "#             initials: the clients'name prefix, e.g, clients_1\n",
    "\n",
    "#     '''\n",
    "\n",
    "#     #create a list of client names\n",
    "#     client_names = ['{}_{}'.format(initial, i+1) for i in range(num_clients)]\n",
    "\n",
    "#     #randomize the data\n",
    "#     data = list(zip(data_list, label_list))\n",
    "#     random.shuffle(data)\n",
    "\n",
    "#     #shard data and place at each client\n",
    "#     size = len(data)//num_clients\n",
    "#     shards = [data[i:i + size] for i in range(0, size*num_clients, size)]\n",
    "\n",
    "#     #number of clients must equal number of shards\n",
    "#     assert(len(shards) == len(client_names))\n",
    "\n",
    "#     return {client_names[i] : shards[i] for i in range(len(client_names))}\n",
    "\n",
    "def create_clients(data_dict):\n",
    "    '''\n",
    "    Return a dictionary with keys as client names and values as data and label lists.\n",
    "\n",
    "    Args:\n",
    "        data_dict: A dictionary where keys are client names, and values are tuples of data and labels.\n",
    "                    For example, {'client_1': (data_1, labels_1), 'client_2': (data_2, labels_2), ...}\n",
    "\n",
    "    Returns:\n",
    "        A dictionary with keys as client names and values as tuples of data and label lists.\n",
    "    '''\n",
    "    return data_dict\n",
    "\n",
    "#import tensorflow as tf\n",
    "#x1= (ds_train.iloc[0:15000,1:]) # data for client 1\n",
    "#y1 = (ds_train.iloc[0:15000,0])  # labels for client 1\n",
    "#print(y1)\n",
    "#y1 = tf.one_hot(y1, depth=3) # Convert to one-hot encoding using tf.one_hot\n",
    "#print(y1)\n",
    "\n",
    "#x2 = (ds_train.iloc[15000:30000,1:]) # data for client 2\n",
    "#y2 = (ds_train.iloc[15000:30000,0])  # labels for client 2\n",
    "#print(y2)\n",
    "#y2 = tf.one_hot(y2, depth=2)\n",
    "#print(y2)\n",
    "\n",
    "#x3= (ds_train.iloc[30000:45000,1:]) # data for client 3\n",
    "#y3= (ds_train.iloc[30000:45000,0])  # labels for client 3\n",
    "#print(y3)\n",
    "#y3 = tf.one_hot(y3, depth=2)\n",
    "#print(y3)\n",
    "\n",
    "#x4 = (ds_train.iloc[45000:60000,1:]) # data for client 4\n",
    "#y4 = (ds_train.iloc[45000:60000,0])  # labels for client 4\n",
    "#print(y4)\n",
    "#y4= tf.one_hot(y4, depth=3)\n",
    "#print(y4)\n",
    "\n",
    "def test_model(x_test, y_test,  model, comm_round):\n",
    "    loss,accuracy=model.evaluate(x_test,y_test)\n",
    "    print('comm_round: {} | global_acc: {:.3%} | global_loss: {}'.format(comm_round, accuracy, loss))\n",
    "    return accuracy, loss\n",
    "\n",
    "\n",
    "def avg_weights(scaled_weight_list):\n",
    "    '''Return the average of the listed scaled weights.'''\n",
    "    num_clients = len(scaled_weight_list)\n",
    "\n",
    "    if num_clients == 0:\n",
    "        return None  # Handle the case where the list is empty\n",
    "\n",
    "    avg_grad = list()\n",
    "\n",
    "    # Get the sum of gradients across all client gradients\n",
    "    for grad_list_tuple in zip(*scaled_weight_list):\n",
    "        layer_mean = tf.math.reduce_sum(grad_list_tuple, axis=0) / num_clients\n",
    "        avg_grad.append(layer_mean)\n",
    "\n",
    "    return avg_grad\n",
    "\n",
    "\n",
    "\n",
    "client_data = {\n",
    "    'client_1': (train1,label1),\n",
    "    'client_2': (train2,label2),\n",
    "    'client_3': (train3,label3),\n",
    "    'client_4': (train4,label4),\n",
    "\n",
    "\n",
    "}\n",
    "\n",
    "\n",
    "#create clients\n",
    "clients_batched = create_clients(client_data)\n",
    "\n",
    "\n",
    "\n"
   ]
  },
  {
   "cell_type": "code",
   "execution_count": 12,
   "id": "f065f4ec",
   "metadata": {},
   "outputs": [],
   "source": [
    "client_names = list(clients_batched.keys())"
   ]
  },
  {
   "cell_type": "code",
   "execution_count": 13,
   "id": "81a79971",
   "metadata": {},
   "outputs": [
    {
     "name": "stderr",
     "output_type": "stream",
     "text": [
      "Progress Bar:   0%|                                                                              | 0/4 [00:00<?, ?it/s]"
     ]
    },
    {
     "name": "stdout",
     "output_type": "stream",
     "text": [
      "Epoch 1/2\n",
      "WARNING:tensorflow:From C:\\ProgramData\\anaconda3\\Lib\\site-packages\\keras\\src\\utils\\tf_utils.py:492: The name tf.ragged.RaggedTensorValue is deprecated. Please use tf.compat.v1.ragged.RaggedTensorValue instead.\n",
      "\n",
      "WARNING:tensorflow:From C:\\ProgramData\\anaconda3\\Lib\\site-packages\\keras\\src\\engine\\base_layer_utils.py:384: The name tf.executing_eagerly_outside_functions is deprecated. Please use tf.compat.v1.executing_eagerly_outside_functions instead.\n",
      "\n",
      "282/282 - 110s - loss: 2.3073 - accuracy: 0.0959 - 110s/epoch - 391ms/step\n",
      "Epoch 2/2\n",
      "282/282 - 104s - loss: 2.3027 - accuracy: 0.0943 - 104s/epoch - 370ms/step\n"
     ]
    },
    {
     "name": "stderr",
     "output_type": "stream",
     "text": [
      "Progress Bar:  25%|█████████████████▎                                                   | 1/4 [03:34<10:44, 215.00s/it]"
     ]
    },
    {
     "name": "stdout",
     "output_type": "stream",
     "text": [
      "Epoch 1/2\n",
      "407/407 - 151s - loss: 1.5731 - accuracy: 0.4225 - 151s/epoch - 371ms/step\n",
      "Epoch 2/2\n",
      "407/407 - 150s - loss: 1.1433 - accuracy: 0.5989 - 150s/epoch - 369ms/step\n"
     ]
    },
    {
     "name": "stderr",
     "output_type": "stream",
     "text": [
      "Progress Bar:  50%|██████████████████████████████████▌                                  | 2/4 [08:36<08:51, 265.86s/it]"
     ]
    },
    {
     "name": "stdout",
     "output_type": "stream",
     "text": [
      "Epoch 1/2\n",
      "500/500 - 174s - loss: 1.4950 - accuracy: 0.4523 - 174s/epoch - 348ms/step\n",
      "Epoch 2/2\n",
      "500/500 - 175s - loss: 1.0725 - accuracy: 0.6299 - 175s/epoch - 350ms/step\n"
     ]
    },
    {
     "name": "stderr",
     "output_type": "stream",
     "text": [
      "Progress Bar:  75%|███████████████████████████████████████████████████▊                 | 3/4 [14:25<05:04, 304.00s/it]"
     ]
    },
    {
     "name": "stdout",
     "output_type": "stream",
     "text": [
      "Epoch 1/2\n",
      "375/375 - 132s - loss: 1.6328 - accuracy: 0.4053 - 132s/epoch - 351ms/step\n",
      "Epoch 2/2\n",
      "375/375 - 130s - loss: 1.1331 - accuracy: 0.6101 - 130s/epoch - 346ms/step\n"
     ]
    },
    {
     "name": "stderr",
     "output_type": "stream",
     "text": [
      "Progress Bar: 100%|█████████████████████████████████████████████████████████████████████| 4/4 [18:47<00:00, 281.97s/it]\n"
     ]
    },
    {
     "name": "stdout",
     "output_type": "stream",
     "text": [
      "313/313 [==============================] - 21s 67ms/step - loss: 2.6538 - accuracy: 0.1000\n",
      "comm_round: 0 | global_acc: 10.000% | global_loss: 2.6538209915161133\n"
     ]
    },
    {
     "name": "stderr",
     "output_type": "stream",
     "text": [
      "Progress Bar:   0%|                                                                              | 0/4 [00:00<?, ?it/s]"
     ]
    },
    {
     "name": "stdout",
     "output_type": "stream",
     "text": [
      "Epoch 1/2\n",
      "282/282 - 98s - loss: 1.2893 - accuracy: 0.5616 - 98s/epoch - 348ms/step\n",
      "Epoch 2/2\n",
      "282/282 - 100s - loss: 1.0541 - accuracy: 0.6502 - 100s/epoch - 353ms/step\n"
     ]
    },
    {
     "name": "stderr",
     "output_type": "stream",
     "text": [
      "Progress Bar:  25%|█████████████████▎                                                   | 1/4 [03:17<09:53, 197.99s/it]"
     ]
    },
    {
     "name": "stdout",
     "output_type": "stream",
     "text": [
      "Epoch 1/2\n",
      "407/407 - 142s - loss: 1.2775 - accuracy: 0.5545 - 142s/epoch - 348ms/step\n",
      "Epoch 2/2\n",
      "407/407 - 140s - loss: 1.0276 - accuracy: 0.6621 - 140s/epoch - 345ms/step\n"
     ]
    },
    {
     "name": "stderr",
     "output_type": "stream",
     "text": [
      "Progress Bar:  50%|██████████████████████████████████▌                                  | 2/4 [08:00<08:15, 247.69s/it]"
     ]
    },
    {
     "name": "stdout",
     "output_type": "stream",
     "text": [
      "Epoch 1/2\n",
      "500/500 - 174s - loss: 1.2292 - accuracy: 0.5794 - 174s/epoch - 347ms/step\n",
      "Epoch 2/2\n",
      "500/500 - 191s - loss: 1.0121 - accuracy: 0.6636 - 191s/epoch - 382ms/step\n"
     ]
    },
    {
     "name": "stderr",
     "output_type": "stream",
     "text": [
      "Progress Bar:  75%|███████████████████████████████████████████████████▊                 | 3/4 [14:05<05:01, 301.21s/it]"
     ]
    },
    {
     "name": "stdout",
     "output_type": "stream",
     "text": [
      "Epoch 1/2\n",
      "375/375 - 146s - loss: 1.2614 - accuracy: 0.5656 - 146s/epoch - 390ms/step\n",
      "Epoch 2/2\n",
      "375/375 - 147s - loss: 1.0197 - accuracy: 0.6587 - 147s/epoch - 391ms/step\n"
     ]
    },
    {
     "name": "stderr",
     "output_type": "stream",
     "text": [
      "Progress Bar: 100%|█████████████████████████████████████████████████████████████████████| 4/4 [18:58<00:00, 284.71s/it]\n"
     ]
    },
    {
     "name": "stdout",
     "output_type": "stream",
     "text": [
      "313/313 [==============================] - 30s 94ms/step - loss: 1.4475 - accuracy: 0.5094\n",
      "comm_round: 1 | global_acc: 50.940% | global_loss: 1.4474565982818604\n"
     ]
    },
    {
     "name": "stderr",
     "output_type": "stream",
     "text": [
      "Progress Bar:   0%|                                                                              | 0/4 [00:00<?, ?it/s]"
     ]
    },
    {
     "name": "stdout",
     "output_type": "stream",
     "text": [
      "Epoch 1/2\n",
      "282/282 - 111s - loss: 1.0716 - accuracy: 0.6472 - 111s/epoch - 393ms/step\n",
      "Epoch 2/2\n",
      "282/282 - 108s - loss: 0.9238 - accuracy: 0.6910 - 108s/epoch - 385ms/step\n"
     ]
    },
    {
     "name": "stderr",
     "output_type": "stream",
     "text": [
      "Progress Bar:  25%|█████████████████▎                                                   | 1/4 [03:39<10:59, 219.78s/it]"
     ]
    },
    {
     "name": "stdout",
     "output_type": "stream",
     "text": [
      "Epoch 1/2\n",
      "407/407 - 165s - loss: 1.0586 - accuracy: 0.6499 - 165s/epoch - 405ms/step\n",
      "Epoch 2/2\n",
      "407/407 - 161s - loss: 0.9368 - accuracy: 0.6819 - 161s/epoch - 395ms/step\n"
     ]
    },
    {
     "name": "stderr",
     "output_type": "stream",
     "text": [
      "Progress Bar:  50%|██████████████████████████████████▌                                  | 2/4 [09:05<09:24, 282.27s/it]"
     ]
    },
    {
     "name": "stdout",
     "output_type": "stream",
     "text": [
      "Epoch 1/2\n",
      "500/500 - 203s - loss: 1.0449 - accuracy: 0.6506 - 203s/epoch - 405ms/step\n",
      "Epoch 2/2\n",
      "500/500 - 202s - loss: 0.9173 - accuracy: 0.6916 - 202s/epoch - 405ms/step\n"
     ]
    },
    {
     "name": "stderr",
     "output_type": "stream",
     "text": [
      "Progress Bar:  75%|███████████████████████████████████████████████████▊                 | 3/4 [15:51<05:38, 338.58s/it]"
     ]
    },
    {
     "name": "stdout",
     "output_type": "stream",
     "text": [
      "Epoch 1/2\n",
      "375/375 - 150s - loss: 1.0531 - accuracy: 0.6448 - 150s/epoch - 401ms/step\n",
      "Epoch 2/2\n",
      "375/375 - 148s - loss: 0.9235 - accuracy: 0.6930 - 148s/epoch - 396ms/step\n"
     ]
    },
    {
     "name": "stderr",
     "output_type": "stream",
     "text": [
      "Progress Bar: 100%|█████████████████████████████████████████████████████████████████████| 4/4 [20:50<00:00, 312.69s/it]\n"
     ]
    },
    {
     "name": "stdout",
     "output_type": "stream",
     "text": [
      "313/313 [==============================] - 32s 100ms/step - loss: 0.9574 - accuracy: 0.6944\n",
      "comm_round: 2 | global_acc: 69.440% | global_loss: 0.9573936462402344\n"
     ]
    },
    {
     "name": "stderr",
     "output_type": "stream",
     "text": [
      "Progress Bar:   0%|                                                                              | 0/4 [00:00<?, ?it/s]"
     ]
    },
    {
     "name": "stdout",
     "output_type": "stream",
     "text": [
      "Epoch 1/2\n",
      "282/282 - 114s - loss: 0.9377 - accuracy: 0.6877 - 114s/epoch - 404ms/step\n",
      "Epoch 2/2\n",
      "282/282 - 110s - loss: 0.8323 - accuracy: 0.7178 - 110s/epoch - 391ms/step\n"
     ]
    },
    {
     "name": "stderr",
     "output_type": "stream",
     "text": [
      "Progress Bar:  25%|█████████████████▎                                                   | 1/4 [03:44<11:13, 224.51s/it]"
     ]
    },
    {
     "name": "stdout",
     "output_type": "stream",
     "text": [
      "Epoch 1/2\n",
      "407/407 - 169s - loss: 0.9497 - accuracy: 0.6844 - 169s/epoch - 416ms/step\n",
      "Epoch 2/2\n",
      "407/407 - 161s - loss: 0.8571 - accuracy: 0.7122 - 161s/epoch - 395ms/step\n"
     ]
    },
    {
     "name": "stderr",
     "output_type": "stream",
     "text": [
      "Progress Bar:  50%|██████████████████████████████████▌                                  | 2/4 [09:15<09:33, 286.88s/it]"
     ]
    },
    {
     "name": "stdout",
     "output_type": "stream",
     "text": [
      "Epoch 1/2\n",
      "500/500 - 201s - loss: 0.9470 - accuracy: 0.6811 - 201s/epoch - 403ms/step\n",
      "Epoch 2/2\n",
      "500/500 - 198s - loss: 0.8480 - accuracy: 0.7139 - 198s/epoch - 397ms/step\n"
     ]
    },
    {
     "name": "stderr",
     "output_type": "stream",
     "text": [
      "Progress Bar:  75%|███████████████████████████████████████████████████▊                 | 3/4 [15:55<05:38, 338.73s/it]"
     ]
    },
    {
     "name": "stdout",
     "output_type": "stream",
     "text": [
      "Epoch 1/2\n",
      "375/375 - 146s - loss: 0.9256 - accuracy: 0.6913 - 146s/epoch - 389ms/step\n",
      "Epoch 2/2\n",
      "375/375 - 144s - loss: 0.8525 - accuracy: 0.7143 - 144s/epoch - 384ms/step\n"
     ]
    },
    {
     "name": "stderr",
     "output_type": "stream",
     "text": [
      "Progress Bar: 100%|█████████████████████████████████████████████████████████████████████| 4/4 [20:45<00:00, 311.50s/it]\n"
     ]
    },
    {
     "name": "stdout",
     "output_type": "stream",
     "text": [
      "313/313 [==============================] - 30s 94ms/step - loss: 0.9010 - accuracy: 0.7058\n",
      "comm_round: 3 | global_acc: 70.580% | global_loss: 0.9010289907455444\n"
     ]
    },
    {
     "name": "stderr",
     "output_type": "stream",
     "text": [
      "Progress Bar:   0%|                                                                              | 0/4 [00:00<?, ?it/s]"
     ]
    },
    {
     "name": "stdout",
     "output_type": "stream",
     "text": [
      "Epoch 1/2\n",
      "282/282 - 113s - loss: 0.8531 - accuracy: 0.7181 - 113s/epoch - 401ms/step\n",
      "Epoch 2/2\n",
      "282/282 - 112s - loss: 0.7911 - accuracy: 0.7374 - 112s/epoch - 398ms/step\n"
     ]
    },
    {
     "name": "stderr",
     "output_type": "stream",
     "text": [
      "Progress Bar:  25%|█████████████████▎                                                   | 1/4 [03:45<11:17, 225.71s/it]"
     ]
    },
    {
     "name": "stdout",
     "output_type": "stream",
     "text": [
      "Epoch 1/2\n",
      "407/407 - 160s - loss: 0.8822 - accuracy: 0.7017 - 160s/epoch - 394ms/step\n",
      "Epoch 2/2\n",
      "407/407 - 157s - loss: 0.8282 - accuracy: 0.7237 - 157s/epoch - 387ms/step\n"
     ]
    },
    {
     "name": "stderr",
     "output_type": "stream",
     "text": [
      "Progress Bar:  50%|██████████████████████████████████▌                                  | 2/4 [09:03<09:20, 280.13s/it]"
     ]
    },
    {
     "name": "stdout",
     "output_type": "stream",
     "text": [
      "Epoch 1/2\n",
      "500/500 - 202s - loss: 0.8769 - accuracy: 0.7045 - 202s/epoch - 404ms/step\n",
      "Epoch 2/2\n",
      "500/500 - 194s - loss: 0.7996 - accuracy: 0.7276 - 194s/epoch - 389ms/step\n"
     ]
    },
    {
     "name": "stderr",
     "output_type": "stream",
     "text": [
      "Progress Bar:  75%|███████████████████████████████████████████████████▊                 | 3/4 [15:41<05:33, 333.64s/it]"
     ]
    },
    {
     "name": "stdout",
     "output_type": "stream",
     "text": [
      "Epoch 1/2\n",
      "375/375 - 133s - loss: 0.8817 - accuracy: 0.7006 - 133s/epoch - 354ms/step\n",
      "Epoch 2/2\n",
      "375/375 - 132s - loss: 0.7941 - accuracy: 0.7343 - 132s/epoch - 353ms/step\n"
     ]
    },
    {
     "name": "stderr",
     "output_type": "stream",
     "text": [
      "Progress Bar: 100%|█████████████████████████████████████████████████████████████████████| 4/4 [20:06<00:00, 301.60s/it]\n"
     ]
    },
    {
     "name": "stdout",
     "output_type": "stream",
     "text": [
      "313/313 [==============================] - 21s 68ms/step - loss: 0.8452 - accuracy: 0.7235\n",
      "comm_round: 4 | global_acc: 72.350% | global_loss: 0.8452463746070862\n"
     ]
    },
    {
     "name": "stderr",
     "output_type": "stream",
     "text": [
      "Progress Bar:   0%|                                                                              | 0/4 [00:00<?, ?it/s]"
     ]
    },
    {
     "name": "stdout",
     "output_type": "stream",
     "text": [
      "Epoch 1/2\n",
      "282/282 - 104s - loss: 0.8227 - accuracy: 0.7294 - 104s/epoch - 367ms/step\n",
      "Epoch 2/2\n",
      "282/282 - 99s - loss: 0.7443 - accuracy: 0.7442 - 99s/epoch - 353ms/step\n"
     ]
    },
    {
     "name": "stderr",
     "output_type": "stream",
     "text": [
      "Progress Bar:  25%|█████████████████▎                                                   | 1/4 [03:23<10:09, 203.20s/it]"
     ]
    },
    {
     "name": "stdout",
     "output_type": "stream",
     "text": [
      "Epoch 1/2\n",
      "407/407 - 147s - loss: 0.8479 - accuracy: 0.7168 - 147s/epoch - 360ms/step\n",
      "Epoch 2/2\n",
      "407/407 - 149s - loss: 0.7778 - accuracy: 0.7372 - 149s/epoch - 367ms/step\n"
     ]
    },
    {
     "name": "stderr",
     "output_type": "stream",
     "text": [
      "Progress Bar:  50%|██████████████████████████████████▌                                  | 2/4 [08:19<08:35, 257.82s/it]"
     ]
    },
    {
     "name": "stdout",
     "output_type": "stream",
     "text": [
      "Epoch 1/2\n",
      "500/500 - 184s - loss: 0.8334 - accuracy: 0.7148 - 184s/epoch - 368ms/step\n",
      "Epoch 2/2\n",
      "500/500 - 178s - loss: 0.7790 - accuracy: 0.7343 - 178s/epoch - 355ms/step\n"
     ]
    },
    {
     "name": "stderr",
     "output_type": "stream",
     "text": [
      "Progress Bar:  75%|███████████████████████████████████████████████████▊                 | 3/4 [14:21<05:05, 305.30s/it]"
     ]
    },
    {
     "name": "stdout",
     "output_type": "stream",
     "text": [
      "Epoch 1/2\n",
      "375/375 - 155s - loss: 0.8261 - accuracy: 0.7218 - 155s/epoch - 415ms/step\n",
      "Epoch 2/2\n",
      "375/375 - 151s - loss: 0.7551 - accuracy: 0.7455 - 151s/epoch - 402ms/step\n"
     ]
    },
    {
     "name": "stderr",
     "output_type": "stream",
     "text": [
      "Progress Bar: 100%|█████████████████████████████████████████████████████████████████████| 4/4 [19:27<00:00, 291.93s/it]\n"
     ]
    },
    {
     "name": "stdout",
     "output_type": "stream",
     "text": [
      "313/313 [==============================] - 31s 97ms/step - loss: 0.8413 - accuracy: 0.7295\n",
      "comm_round: 5 | global_acc: 72.950% | global_loss: 0.8412550091743469\n"
     ]
    },
    {
     "name": "stderr",
     "output_type": "stream",
     "text": [
      "Progress Bar:   0%|                                                                              | 0/4 [00:00<?, ?it/s]"
     ]
    },
    {
     "name": "stdout",
     "output_type": "stream",
     "text": [
      "Epoch 1/2\n",
      "282/282 - 113s - loss: 0.7773 - accuracy: 0.7443 - 113s/epoch - 401ms/step\n",
      "Epoch 2/2\n",
      "282/282 - 111s - loss: 0.7091 - accuracy: 0.7620 - 111s/epoch - 395ms/step\n"
     ]
    },
    {
     "name": "stderr",
     "output_type": "stream",
     "text": [
      "Progress Bar:  25%|█████████████████▎                                                   | 1/4 [03:45<11:15, 225.05s/it]"
     ]
    },
    {
     "name": "stdout",
     "output_type": "stream",
     "text": [
      "Epoch 1/2\n",
      "407/407 - 163s - loss: 0.7979 - accuracy: 0.7352 - 163s/epoch - 401ms/step\n",
      "Epoch 2/2\n",
      "407/407 - 160s - loss: 0.7601 - accuracy: 0.7455 - 160s/epoch - 392ms/step\n"
     ]
    },
    {
     "name": "stderr",
     "output_type": "stream",
     "text": [
      "Progress Bar:  50%|██████████████████████████████████▌                                  | 2/4 [09:08<09:25, 282.86s/it]"
     ]
    },
    {
     "name": "stdout",
     "output_type": "stream",
     "text": [
      "Epoch 1/2\n",
      "500/500 - 209s - loss: 0.8013 - accuracy: 0.7291 - 209s/epoch - 419ms/step\n",
      "Epoch 2/2\n",
      "500/500 - 205s - loss: 0.7623 - accuracy: 0.7397 - 205s/epoch - 410ms/step\n"
     ]
    },
    {
     "name": "stderr",
     "output_type": "stream",
     "text": [
      "Progress Bar:  75%|███████████████████████████████████████████████████▊                 | 3/4 [16:03<05:43, 343.27s/it]"
     ]
    },
    {
     "name": "stdout",
     "output_type": "stream",
     "text": [
      "Epoch 1/2\n",
      "375/375 - 150s - loss: 0.7859 - accuracy: 0.7355 - 150s/epoch - 399ms/step\n",
      "Epoch 2/2\n",
      "375/375 - 148s - loss: 0.7225 - accuracy: 0.7560 - 148s/epoch - 394ms/step\n"
     ]
    },
    {
     "name": "stderr",
     "output_type": "stream",
     "text": [
      "Progress Bar: 100%|█████████████████████████████████████████████████████████████████████| 4/4 [21:01<00:00, 315.33s/it]\n"
     ]
    },
    {
     "name": "stdout",
     "output_type": "stream",
     "text": [
      "313/313 [==============================] - 30s 95ms/step - loss: 0.8114 - accuracy: 0.7328\n",
      "comm_round: 6 | global_acc: 73.280% | global_loss: 0.8114076852798462\n"
     ]
    },
    {
     "name": "stderr",
     "output_type": "stream",
     "text": [
      "Progress Bar:   0%|                                                                              | 0/4 [00:00<?, ?it/s]"
     ]
    },
    {
     "name": "stdout",
     "output_type": "stream",
     "text": [
      "Epoch 1/2\n",
      "282/282 - 114s - loss: 0.7593 - accuracy: 0.7481 - 114s/epoch - 403ms/step\n",
      "Epoch 2/2\n",
      "282/282 - 113s - loss: 0.6840 - accuracy: 0.7664 - 113s/epoch - 402ms/step\n"
     ]
    },
    {
     "name": "stderr",
     "output_type": "stream",
     "text": [
      "Progress Bar:  25%|█████████████████▎                                                   | 1/4 [03:47<11:22, 227.51s/it]"
     ]
    },
    {
     "name": "stdout",
     "output_type": "stream",
     "text": [
      "Epoch 1/2\n",
      "407/407 - 159s - loss: 0.7890 - accuracy: 0.7353 - 159s/epoch - 390ms/step\n",
      "Epoch 2/2\n",
      "407/407 - 159s - loss: 0.7138 - accuracy: 0.7643 - 159s/epoch - 391ms/step\n"
     ]
    },
    {
     "name": "stderr",
     "output_type": "stream",
     "text": [
      "Progress Bar:  50%|██████████████████████████████████▌                                  | 2/4 [09:06<09:22, 281.06s/it]"
     ]
    },
    {
     "name": "stdout",
     "output_type": "stream",
     "text": [
      "Epoch 1/2\n",
      "500/500 - 200s - loss: 0.7853 - accuracy: 0.7384 - 200s/epoch - 400ms/step\n",
      "Epoch 2/2\n",
      "500/500 - 180s - loss: 0.7112 - accuracy: 0.7581 - 180s/epoch - 360ms/step\n"
     ]
    },
    {
     "name": "stderr",
     "output_type": "stream",
     "text": [
      "Progress Bar:  75%|███████████████████████████████████████████████████▊                 | 3/4 [15:26<05:26, 326.43s/it]"
     ]
    },
    {
     "name": "stdout",
     "output_type": "stream",
     "text": [
      "Epoch 1/2\n",
      "375/375 - 136s - loss: 0.7662 - accuracy: 0.7450 - 136s/epoch - 362ms/step\n",
      "Epoch 2/2\n",
      "375/375 - 137s - loss: 0.6940 - accuracy: 0.7660 - 137s/epoch - 365ms/step\n"
     ]
    },
    {
     "name": "stderr",
     "output_type": "stream",
     "text": [
      "Progress Bar: 100%|█████████████████████████████████████████████████████████████████████| 4/4 [19:59<00:00, 299.82s/it]\n"
     ]
    },
    {
     "name": "stdout",
     "output_type": "stream",
     "text": [
      "313/313 [==============================] - 21s 67ms/step - loss: 0.8218 - accuracy: 0.7307\n",
      "comm_round: 7 | global_acc: 73.070% | global_loss: 0.8218331336975098\n"
     ]
    },
    {
     "name": "stderr",
     "output_type": "stream",
     "text": [
      "Progress Bar:   0%|                                                                              | 0/4 [00:00<?, ?it/s]"
     ]
    },
    {
     "name": "stdout",
     "output_type": "stream",
     "text": [
      "Epoch 1/2\n",
      "282/282 - 105s - loss: 0.7245 - accuracy: 0.7519 - 105s/epoch - 372ms/step\n",
      "Epoch 2/2\n",
      "282/282 - 106s - loss: 0.6562 - accuracy: 0.7743 - 106s/epoch - 374ms/step\n"
     ]
    },
    {
     "name": "stderr",
     "output_type": "stream",
     "text": [
      "Progress Bar:  25%|█████████████████▎                                                   | 1/4 [03:30<10:31, 210.64s/it]"
     ]
    },
    {
     "name": "stdout",
     "output_type": "stream",
     "text": [
      "Epoch 1/2\n",
      "407/407 - 146s - loss: 0.7666 - accuracy: 0.7446 - 146s/epoch - 360ms/step\n",
      "Epoch 2/2\n",
      "407/407 - 157s - loss: 0.6999 - accuracy: 0.7629 - 157s/epoch - 385ms/step\n"
     ]
    },
    {
     "name": "stderr",
     "output_type": "stream",
     "text": [
      "Progress Bar:  50%|██████████████████████████████████▌                                  | 2/4 [08:33<08:50, 265.15s/it]"
     ]
    },
    {
     "name": "stdout",
     "output_type": "stream",
     "text": [
      "Epoch 1/2\n",
      "500/500 - 199s - loss: 0.7553 - accuracy: 0.7457 - 199s/epoch - 399ms/step\n",
      "Epoch 2/2\n",
      "500/500 - 198s - loss: 0.7001 - accuracy: 0.7616 - 198s/epoch - 396ms/step\n"
     ]
    },
    {
     "name": "stderr",
     "output_type": "stream",
     "text": [
      "Progress Bar:  75%|███████████████████████████████████████████████████▊                 | 3/4 [15:12<05:25, 325.87s/it]"
     ]
    },
    {
     "name": "stdout",
     "output_type": "stream",
     "text": [
      "Epoch 1/2\n",
      "375/375 - 150s - loss: 0.7467 - accuracy: 0.7474 - 150s/epoch - 400ms/step\n",
      "Epoch 2/2\n",
      "375/375 - 149s - loss: 0.6572 - accuracy: 0.7745 - 149s/epoch - 397ms/step\n"
     ]
    },
    {
     "name": "stderr",
     "output_type": "stream",
     "text": [
      "Progress Bar: 100%|█████████████████████████████████████████████████████████████████████| 4/4 [20:11<00:00, 302.90s/it]\n"
     ]
    },
    {
     "name": "stdout",
     "output_type": "stream",
     "text": [
      "313/313 [==============================] - 30s 94ms/step - loss: 0.7831 - accuracy: 0.7395\n",
      "comm_round: 8 | global_acc: 73.950% | global_loss: 0.7830570340156555\n"
     ]
    },
    {
     "name": "stderr",
     "output_type": "stream",
     "text": [
      "Progress Bar:   0%|                                                                              | 0/4 [00:00<?, ?it/s]"
     ]
    },
    {
     "name": "stdout",
     "output_type": "stream",
     "text": [
      "Epoch 1/2\n",
      "282/282 - 114s - loss: 0.7167 - accuracy: 0.7614 - 114s/epoch - 403ms/step\n",
      "Epoch 2/2\n",
      "282/282 - 111s - loss: 0.6364 - accuracy: 0.7808 - 111s/epoch - 393ms/step\n"
     ]
    },
    {
     "name": "stderr",
     "output_type": "stream",
     "text": [
      "Progress Bar:  25%|█████████████████▎                                                   | 1/4 [03:44<11:14, 224.90s/it]"
     ]
    },
    {
     "name": "stdout",
     "output_type": "stream",
     "text": [
      "Epoch 1/2\n",
      "407/407 - 164s - loss: 0.7497 - accuracy: 0.7539 - 164s/epoch - 402ms/step\n",
      "Epoch 2/2\n",
      "407/407 - 160s - loss: 0.6779 - accuracy: 0.7708 - 160s/epoch - 392ms/step\n"
     ]
    },
    {
     "name": "stderr",
     "output_type": "stream",
     "text": [
      "Progress Bar:  50%|██████████████████████████████████▌                                  | 2/4 [09:08<09:26, 283.09s/it]"
     ]
    },
    {
     "name": "stdout",
     "output_type": "stream",
     "text": [
      "Epoch 1/2\n",
      "500/500 - 199s - loss: 0.7437 - accuracy: 0.7483 - 199s/epoch - 399ms/step\n",
      "Epoch 2/2\n",
      "500/500 - 198s - loss: 0.6846 - accuracy: 0.7689 - 198s/epoch - 395ms/step\n"
     ]
    },
    {
     "name": "stderr",
     "output_type": "stream",
     "text": [
      "Progress Bar:  75%|███████████████████████████████████████████████████▊                 | 3/4 [15:46<05:35, 335.39s/it]"
     ]
    },
    {
     "name": "stdout",
     "output_type": "stream",
     "text": [
      "Epoch 1/2\n",
      "375/375 - 150s - loss: 0.7192 - accuracy: 0.7571 - 150s/epoch - 399ms/step\n",
      "Epoch 2/2\n",
      "375/375 - 148s - loss: 0.6812 - accuracy: 0.7730 - 148s/epoch - 393ms/step\n"
     ]
    },
    {
     "name": "stderr",
     "output_type": "stream",
     "text": [
      "Progress Bar: 100%|█████████████████████████████████████████████████████████████████████| 4/4 [20:44<00:00, 311.00s/it]\n"
     ]
    },
    {
     "name": "stdout",
     "output_type": "stream",
     "text": [
      "313/313 [==============================] - 30s 95ms/step - loss: 0.7782 - accuracy: 0.7426\n",
      "comm_round: 9 | global_acc: 74.260% | global_loss: 0.7781520485877991\n"
     ]
    },
    {
     "name": "stderr",
     "output_type": "stream",
     "text": [
      "Progress Bar:   0%|                                                                              | 0/4 [00:00<?, ?it/s]"
     ]
    },
    {
     "name": "stdout",
     "output_type": "stream",
     "text": [
      "Epoch 1/2\n",
      "282/282 - 113s - loss: 0.7003 - accuracy: 0.7617 - 113s/epoch - 399ms/step\n",
      "Epoch 2/2\n",
      "282/282 - 109s - loss: 0.6340 - accuracy: 0.7840 - 109s/epoch - 386ms/step\n"
     ]
    },
    {
     "name": "stderr",
     "output_type": "stream",
     "text": [
      "Progress Bar:  25%|█████████████████▎                                                   | 1/4 [03:41<11:05, 221.95s/it]"
     ]
    },
    {
     "name": "stdout",
     "output_type": "stream",
     "text": [
      "Epoch 1/2\n",
      "407/407 - 161s - loss: 0.7221 - accuracy: 0.7543 - 161s/epoch - 396ms/step\n",
      "Epoch 2/2\n",
      "407/407 - 152s - loss: 0.6562 - accuracy: 0.7775 - 152s/epoch - 374ms/step\n"
     ]
    },
    {
     "name": "stderr",
     "output_type": "stream",
     "text": [
      "Progress Bar:  50%|██████████████████████████████████▌                                  | 2/4 [08:56<09:12, 276.15s/it]"
     ]
    },
    {
     "name": "stdout",
     "output_type": "stream",
     "text": [
      "Epoch 1/2\n",
      "500/500 - 182s - loss: 0.7090 - accuracy: 0.7628 - 182s/epoch - 365ms/step\n",
      "Epoch 2/2\n",
      "500/500 - 183s - loss: 0.6670 - accuracy: 0.7726 - 183s/epoch - 366ms/step\n"
     ]
    },
    {
     "name": "stderr",
     "output_type": "stream",
     "text": [
      "Progress Bar:  75%|███████████████████████████████████████████████████▊                 | 3/4 [15:01<05:17, 317.13s/it]"
     ]
    },
    {
     "name": "stdout",
     "output_type": "stream",
     "text": [
      "Epoch 1/2\n",
      "375/375 - 139s - loss: 0.7110 - accuracy: 0.7630 - 139s/epoch - 370ms/step\n",
      "Epoch 2/2\n",
      "375/375 - 140s - loss: 0.6899 - accuracy: 0.7681 - 140s/epoch - 372ms/step\n"
     ]
    },
    {
     "name": "stderr",
     "output_type": "stream",
     "text": [
      "Progress Bar: 100%|█████████████████████████████████████████████████████████████████████| 4/4 [19:40<00:00, 295.16s/it]\n"
     ]
    },
    {
     "name": "stdout",
     "output_type": "stream",
     "text": [
      "313/313 [==============================] - 24s 75ms/step - loss: 0.7732 - accuracy: 0.7404\n",
      "comm_round: 10 | global_acc: 74.040% | global_loss: 0.7732464075088501\n"
     ]
    },
    {
     "name": "stderr",
     "output_type": "stream",
     "text": [
      "Progress Bar:   0%|                                                                              | 0/4 [00:00<?, ?it/s]"
     ]
    },
    {
     "name": "stdout",
     "output_type": "stream",
     "text": [
      "Epoch 1/2\n",
      "282/282 - 99s - loss: 0.6970 - accuracy: 0.7658 - 99s/epoch - 351ms/step\n",
      "Epoch 2/2\n",
      "282/282 - 99s - loss: 0.6012 - accuracy: 0.7977 - 99s/epoch - 352ms/step\n"
     ]
    },
    {
     "name": "stderr",
     "output_type": "stream",
     "text": [
      "Progress Bar:  25%|█████████████████▎                                                   | 1/4 [03:18<09:55, 198.57s/it]"
     ]
    },
    {
     "name": "stdout",
     "output_type": "stream",
     "text": [
      "Epoch 1/2\n",
      "407/407 - 143s - loss: 0.7203 - accuracy: 0.7596 - 143s/epoch - 352ms/step\n",
      "Epoch 2/2\n",
      "407/407 - 144s - loss: 0.6418 - accuracy: 0.7856 - 144s/epoch - 353ms/step\n"
     ]
    },
    {
     "name": "stderr",
     "output_type": "stream",
     "text": [
      "Progress Bar:  50%|██████████████████████████████████▌                                  | 2/4 [08:05<08:21, 250.78s/it]"
     ]
    },
    {
     "name": "stdout",
     "output_type": "stream",
     "text": [
      "Epoch 1/2\n",
      "500/500 - 180s - loss: 0.6972 - accuracy: 0.7666 - 180s/epoch - 359ms/step\n",
      "Epoch 2/2\n",
      "500/500 - 178s - loss: 0.6483 - accuracy: 0.7790 - 178s/epoch - 355ms/step\n"
     ]
    },
    {
     "name": "stderr",
     "output_type": "stream",
     "text": [
      "Progress Bar:  75%|███████████████████████████████████████████████████▊                 | 3/4 [14:03<04:59, 299.49s/it]"
     ]
    },
    {
     "name": "stdout",
     "output_type": "stream",
     "text": [
      "Epoch 1/2\n",
      "375/375 - 136s - loss: 0.6956 - accuracy: 0.7688 - 136s/epoch - 362ms/step\n",
      "Epoch 2/2\n",
      "375/375 - 133s - loss: 0.6402 - accuracy: 0.7837 - 133s/epoch - 354ms/step\n"
     ]
    },
    {
     "name": "stderr",
     "output_type": "stream",
     "text": [
      "Progress Bar: 100%|█████████████████████████████████████████████████████████████████████| 4/4 [18:32<00:00, 278.07s/it]\n"
     ]
    },
    {
     "name": "stdout",
     "output_type": "stream",
     "text": [
      "313/313 [==============================] - 19s 62ms/step - loss: 0.7881 - accuracy: 0.7376\n",
      "comm_round: 11 | global_acc: 73.760% | global_loss: 0.788122296333313\n"
     ]
    },
    {
     "name": "stderr",
     "output_type": "stream",
     "text": [
      "Progress Bar:   0%|                                                                              | 0/4 [00:00<?, ?it/s]"
     ]
    },
    {
     "name": "stdout",
     "output_type": "stream",
     "text": [
      "Epoch 1/2\n",
      "282/282 - 100s - loss: 0.6673 - accuracy: 0.7722 - 100s/epoch - 354ms/step\n",
      "Epoch 2/2\n",
      "282/282 - 99s - loss: 0.5935 - accuracy: 0.7996 - 99s/epoch - 350ms/step\n"
     ]
    },
    {
     "name": "stderr",
     "output_type": "stream",
     "text": [
      "Progress Bar:  25%|█████████████████▎                                                   | 1/4 [03:18<09:56, 198.94s/it]"
     ]
    },
    {
     "name": "stdout",
     "output_type": "stream",
     "text": [
      "Epoch 1/2\n",
      "407/407 - 144s - loss: 0.6919 - accuracy: 0.7669 - 144s/epoch - 354ms/step\n",
      "Epoch 2/2\n",
      "407/407 - 143s - loss: 0.6584 - accuracy: 0.7777 - 143s/epoch - 351ms/step\n"
     ]
    },
    {
     "name": "stderr",
     "output_type": "stream",
     "text": [
      "Progress Bar:  50%|██████████████████████████████████▌                                  | 2/4 [08:06<08:21, 250.84s/it]"
     ]
    },
    {
     "name": "stdout",
     "output_type": "stream",
     "text": [
      "Epoch 1/2\n",
      "500/500 - 182s - loss: 0.6768 - accuracy: 0.7733 - 182s/epoch - 364ms/step\n",
      "Epoch 2/2\n",
      "500/500 - 177s - loss: 0.6407 - accuracy: 0.7821 - 177s/epoch - 354ms/step\n"
     ]
    },
    {
     "name": "stderr",
     "output_type": "stream",
     "text": [
      "Progress Bar:  75%|███████████████████████████████████████████████████▊                 | 3/4 [14:05<05:00, 300.40s/it]"
     ]
    },
    {
     "name": "stdout",
     "output_type": "stream",
     "text": [
      "Epoch 1/2\n",
      "375/375 - 136s - loss: 0.6831 - accuracy: 0.7748 - 136s/epoch - 363ms/step\n",
      "Epoch 2/2\n",
      "375/375 - 134s - loss: 0.6269 - accuracy: 0.7865 - 134s/epoch - 358ms/step\n"
     ]
    },
    {
     "name": "stderr",
     "output_type": "stream",
     "text": [
      "Progress Bar: 100%|█████████████████████████████████████████████████████████████████████| 4/4 [18:36<00:00, 279.03s/it]\n"
     ]
    },
    {
     "name": "stdout",
     "output_type": "stream",
     "text": [
      "313/313 [==============================] - 23s 72ms/step - loss: 0.7611 - accuracy: 0.7481\n",
      "comm_round: 12 | global_acc: 74.810% | global_loss: 0.7611199617385864\n"
     ]
    },
    {
     "name": "stderr",
     "output_type": "stream",
     "text": [
      "Progress Bar:   0%|                                                                              | 0/4 [00:00<?, ?it/s]"
     ]
    },
    {
     "name": "stdout",
     "output_type": "stream",
     "text": [
      "Epoch 1/2\n",
      "282/282 - 100s - loss: 0.6765 - accuracy: 0.7780 - 100s/epoch - 353ms/step\n",
      "Epoch 2/2\n",
      "282/282 - 99s - loss: 0.5726 - accuracy: 0.8068 - 99s/epoch - 351ms/step\n"
     ]
    },
    {
     "name": "stderr",
     "output_type": "stream",
     "text": [
      "Progress Bar:  25%|█████████████████▎                                                   | 1/4 [03:18<09:56, 198.84s/it]"
     ]
    },
    {
     "name": "stdout",
     "output_type": "stream",
     "text": [
      "Epoch 1/2\n",
      "407/407 - 143s - loss: 0.6867 - accuracy: 0.7682 - 143s/epoch - 352ms/step\n",
      "Epoch 2/2\n",
      "407/407 - 144s - loss: 0.6155 - accuracy: 0.7921 - 144s/epoch - 354ms/step\n"
     ]
    },
    {
     "name": "stderr",
     "output_type": "stream",
     "text": [
      "Progress Bar:  50%|██████████████████████████████████▌                                  | 2/4 [08:06<08:22, 251.04s/it]"
     ]
    },
    {
     "name": "stdout",
     "output_type": "stream",
     "text": [
      "Epoch 1/2\n",
      "500/500 - 177s - loss: 0.7062 - accuracy: 0.7664 - 177s/epoch - 354ms/step\n",
      "Epoch 2/2\n",
      "500/500 - 176s - loss: 0.6189 - accuracy: 0.7864 - 176s/epoch - 352ms/step\n"
     ]
    },
    {
     "name": "stderr",
     "output_type": "stream",
     "text": [
      "Progress Bar:  75%|███████████████████████████████████████████████████▊                 | 3/4 [13:59<04:57, 297.83s/it]"
     ]
    },
    {
     "name": "stdout",
     "output_type": "stream",
     "text": [
      "Epoch 1/2\n",
      "375/375 - 152s - loss: 0.6626 - accuracy: 0.7794 - 152s/epoch - 405ms/step\n",
      "Epoch 2/2\n",
      "375/375 - 150s - loss: 0.6092 - accuracy: 0.7962 - 150s/epoch - 399ms/step\n"
     ]
    },
    {
     "name": "stderr",
     "output_type": "stream",
     "text": [
      "Progress Bar: 100%|█████████████████████████████████████████████████████████████████████| 4/4 [19:01<00:00, 285.47s/it]\n"
     ]
    },
    {
     "name": "stdout",
     "output_type": "stream",
     "text": [
      "313/313 [==============================] - 30s 95ms/step - loss: 0.7647 - accuracy: 0.7471\n",
      "comm_round: 13 | global_acc: 74.710% | global_loss: 0.7647181153297424\n"
     ]
    },
    {
     "name": "stderr",
     "output_type": "stream",
     "text": [
      "Progress Bar:   0%|                                                                              | 0/4 [00:00<?, ?it/s]"
     ]
    },
    {
     "name": "stdout",
     "output_type": "stream",
     "text": [
      "Epoch 1/2\n",
      "282/282 - 117s - loss: 0.6572 - accuracy: 0.7792 - 117s/epoch - 416ms/step\n",
      "Epoch 2/2\n",
      "282/282 - 114s - loss: 0.5650 - accuracy: 0.8064 - 114s/epoch - 403ms/step\n"
     ]
    },
    {
     "name": "stderr",
     "output_type": "stream",
     "text": [
      "Progress Bar:  25%|█████████████████▎                                                   | 1/4 [03:51<11:34, 231.35s/it]"
     ]
    },
    {
     "name": "stdout",
     "output_type": "stream",
     "text": [
      "Epoch 1/2\n",
      "407/407 - 160s - loss: 0.6863 - accuracy: 0.7782 - 160s/epoch - 394ms/step\n",
      "Epoch 2/2\n",
      "407/407 - 161s - loss: 0.5849 - accuracy: 0.8036 - 161s/epoch - 396ms/step\n"
     ]
    },
    {
     "name": "stderr",
     "output_type": "stream",
     "text": [
      "Progress Bar:  50%|██████████████████████████████████▌                                  | 2/4 [09:13<09:29, 284.60s/it]"
     ]
    },
    {
     "name": "stdout",
     "output_type": "stream",
     "text": [
      "Epoch 1/2\n",
      "500/500 - 208s - loss: 0.6836 - accuracy: 0.7711 - 208s/epoch - 416ms/step\n",
      "Epoch 2/2\n",
      "500/500 - 206s - loss: 0.6350 - accuracy: 0.7896 - 206s/epoch - 413ms/step\n"
     ]
    },
    {
     "name": "stderr",
     "output_type": "stream",
     "text": [
      "Progress Bar:  75%|███████████████████████████████████████████████████▊                 | 3/4 [16:08<05:44, 344.11s/it]"
     ]
    },
    {
     "name": "stdout",
     "output_type": "stream",
     "text": [
      "Epoch 1/2\n",
      "375/375 - 152s - loss: 0.6458 - accuracy: 0.7824 - 152s/epoch - 407ms/step\n",
      "Epoch 2/2\n",
      "375/375 - 145s - loss: 0.5579 - accuracy: 0.8087 - 145s/epoch - 386ms/step\n"
     ]
    },
    {
     "name": "stderr",
     "output_type": "stream",
     "text": [
      "Progress Bar: 100%|█████████████████████████████████████████████████████████████████████| 4/4 [21:05<00:00, 316.46s/it]\n"
     ]
    },
    {
     "name": "stdout",
     "output_type": "stream",
     "text": [
      "313/313 [==============================] - 30s 95ms/step - loss: 0.7564 - accuracy: 0.7509\n",
      "comm_round: 14 | global_acc: 75.090% | global_loss: 0.7564050555229187\n"
     ]
    },
    {
     "name": "stderr",
     "output_type": "stream",
     "text": [
      "Progress Bar:   0%|                                                                              | 0/4 [00:00<?, ?it/s]"
     ]
    },
    {
     "name": "stdout",
     "output_type": "stream",
     "text": [
      "Epoch 1/2\n",
      "282/282 - 111s - loss: 0.6448 - accuracy: 0.7822 - 111s/epoch - 392ms/step\n",
      "Epoch 2/2\n",
      "282/282 - 108s - loss: 0.5392 - accuracy: 0.8160 - 108s/epoch - 384ms/step\n"
     ]
    },
    {
     "name": "stderr",
     "output_type": "stream",
     "text": [
      "Progress Bar:  25%|█████████████████▎                                                   | 1/4 [03:39<10:58, 219.39s/it]"
     ]
    },
    {
     "name": "stdout",
     "output_type": "stream",
     "text": [
      "Epoch 1/2\n",
      "407/407 - 161s - loss: 0.6525 - accuracy: 0.7852 - 161s/epoch - 397ms/step\n",
      "Epoch 2/2\n",
      "407/407 - 159s - loss: 0.5778 - accuracy: 0.8061 - 159s/epoch - 391ms/step\n"
     ]
    },
    {
     "name": "stderr",
     "output_type": "stream",
     "text": [
      "Progress Bar:  50%|██████████████████████████████████▌                                  | 2/4 [09:00<09:18, 279.30s/it]"
     ]
    },
    {
     "name": "stdout",
     "output_type": "stream",
     "text": [
      "Epoch 1/2\n",
      "500/500 - 208s - loss: 0.6585 - accuracy: 0.7789 - 208s/epoch - 416ms/step\n",
      "Epoch 2/2\n",
      "500/500 - 199s - loss: 0.6019 - accuracy: 0.7916 - 199s/epoch - 399ms/step\n"
     ]
    },
    {
     "name": "stderr",
     "output_type": "stream",
     "text": [
      "Progress Bar:  75%|███████████████████████████████████████████████████▊                 | 3/4 [15:48<05:38, 338.14s/it]"
     ]
    },
    {
     "name": "stdout",
     "output_type": "stream",
     "text": [
      "Epoch 1/2\n",
      "375/375 - 147s - loss: 0.6643 - accuracy: 0.7805 - 147s/epoch - 392ms/step\n",
      "Epoch 2/2\n",
      "375/375 - 144s - loss: 0.6660 - accuracy: 0.7906 - 144s/epoch - 385ms/step\n"
     ]
    },
    {
     "name": "stderr",
     "output_type": "stream",
     "text": [
      "Progress Bar: 100%|█████████████████████████████████████████████████████████████████████| 4/4 [20:40<00:00, 310.17s/it]\n"
     ]
    },
    {
     "name": "stdout",
     "output_type": "stream",
     "text": [
      "313/313 [==============================] - 30s 95ms/step - loss: 0.7856 - accuracy: 0.7368\n",
      "comm_round: 15 | global_acc: 73.680% | global_loss: 0.7856435775756836\n"
     ]
    },
    {
     "name": "stderr",
     "output_type": "stream",
     "text": [
      "Progress Bar:   0%|                                                                              | 0/4 [00:00<?, ?it/s]"
     ]
    },
    {
     "name": "stdout",
     "output_type": "stream",
     "text": [
      "Epoch 1/2\n",
      "282/282 - 111s - loss: 0.6161 - accuracy: 0.7916 - 111s/epoch - 392ms/step\n",
      "Epoch 2/2\n",
      "282/282 - 108s - loss: 0.5336 - accuracy: 0.8190 - 108s/epoch - 385ms/step\n"
     ]
    },
    {
     "name": "stderr",
     "output_type": "stream",
     "text": [
      "Progress Bar:  25%|█████████████████▎                                                   | 1/4 [03:39<10:58, 219.41s/it]"
     ]
    },
    {
     "name": "stdout",
     "output_type": "stream",
     "text": [
      "Epoch 1/2\n",
      "407/407 - 163s - loss: 0.6527 - accuracy: 0.7837 - 163s/epoch - 401ms/step\n",
      "Epoch 2/2\n",
      "407/407 - 157s - loss: 0.5908 - accuracy: 0.7994 - 157s/epoch - 386ms/step\n"
     ]
    },
    {
     "name": "stderr",
     "output_type": "stream",
     "text": [
      "Progress Bar:  50%|██████████████████████████████████▌                                  | 2/4 [09:00<09:18, 279.09s/it]"
     ]
    },
    {
     "name": "stdout",
     "output_type": "stream",
     "text": [
      "Epoch 1/2\n",
      "500/500 - 197s - loss: 0.6609 - accuracy: 0.7753 - 197s/epoch - 394ms/step\n",
      "Epoch 2/2\n",
      "500/500 - 195s - loss: 0.5930 - accuracy: 0.7961 - 195s/epoch - 389ms/step\n"
     ]
    },
    {
     "name": "stderr",
     "output_type": "stream",
     "text": [
      "Progress Bar:  75%|███████████████████████████████████████████████████▊                 | 3/4 [15:32<05:30, 330.68s/it]"
     ]
    },
    {
     "name": "stdout",
     "output_type": "stream",
     "text": [
      "Epoch 1/2\n",
      "375/375 - 149s - loss: 0.6446 - accuracy: 0.7847 - 149s/epoch - 399ms/step\n",
      "Epoch 2/2\n",
      "375/375 - 148s - loss: 0.5629 - accuracy: 0.8067 - 148s/epoch - 394ms/step\n"
     ]
    },
    {
     "name": "stderr",
     "output_type": "stream",
     "text": [
      "Progress Bar: 100%|█████████████████████████████████████████████████████████████████████| 4/4 [20:29<00:00, 307.49s/it]\n"
     ]
    },
    {
     "name": "stdout",
     "output_type": "stream",
     "text": [
      "313/313 [==============================] - 32s 101ms/step - loss: 0.7592 - accuracy: 0.7460\n",
      "comm_round: 16 | global_acc: 74.600% | global_loss: 0.7591859102249146\n"
     ]
    },
    {
     "name": "stderr",
     "output_type": "stream",
     "text": [
      "Progress Bar:   0%|                                                                              | 0/4 [00:00<?, ?it/s]"
     ]
    },
    {
     "name": "stdout",
     "output_type": "stream",
     "text": [
      "Epoch 1/2\n",
      "282/282 - 111s - loss: 0.6212 - accuracy: 0.7982 - 111s/epoch - 394ms/step\n",
      "Epoch 2/2\n",
      "282/282 - 109s - loss: 0.5091 - accuracy: 0.8278 - 109s/epoch - 386ms/step\n"
     ]
    },
    {
     "name": "stderr",
     "output_type": "stream",
     "text": [
      "Progress Bar:  25%|█████████████████▎                                                   | 1/4 [03:40<11:01, 220.39s/it]"
     ]
    },
    {
     "name": "stdout",
     "output_type": "stream",
     "text": [
      "Epoch 1/2\n",
      "407/407 - 160s - loss: 0.6353 - accuracy: 0.7849 - 160s/epoch - 394ms/step\n",
      "Epoch 2/2\n",
      "407/407 - 158s - loss: 0.5775 - accuracy: 0.8078 - 158s/epoch - 388ms/step\n"
     ]
    },
    {
     "name": "stderr",
     "output_type": "stream",
     "text": [
      "Progress Bar:  50%|██████████████████████████████████▌                                  | 2/4 [08:59<09:16, 278.17s/it]"
     ]
    },
    {
     "name": "stdout",
     "output_type": "stream",
     "text": [
      "Epoch 1/2\n",
      "500/500 - 199s - loss: 0.6683 - accuracy: 0.7844 - 199s/epoch - 397ms/step\n",
      "Epoch 2/2\n",
      "500/500 - 200s - loss: 0.5798 - accuracy: 0.8033 - 200s/epoch - 399ms/step\n"
     ]
    },
    {
     "name": "stderr",
     "output_type": "stream",
     "text": [
      "Progress Bar:  75%|███████████████████████████████████████████████████▊                 | 3/4 [15:37<05:33, 333.32s/it]"
     ]
    },
    {
     "name": "stdout",
     "output_type": "stream",
     "text": [
      "Epoch 1/2\n",
      "375/375 - 147s - loss: 0.6200 - accuracy: 0.7908 - 147s/epoch - 392ms/step\n",
      "Epoch 2/2\n",
      "375/375 - 145s - loss: 0.5662 - accuracy: 0.8148 - 145s/epoch - 386ms/step\n"
     ]
    },
    {
     "name": "stderr",
     "output_type": "stream",
     "text": [
      "Progress Bar: 100%|█████████████████████████████████████████████████████████████████████| 4/4 [20:30<00:00, 307.58s/it]\n"
     ]
    },
    {
     "name": "stdout",
     "output_type": "stream",
     "text": [
      "313/313 [==============================] - 30s 94ms/step - loss: 0.7847 - accuracy: 0.7352\n",
      "comm_round: 17 | global_acc: 73.520% | global_loss: 0.784699559211731\n"
     ]
    },
    {
     "name": "stderr",
     "output_type": "stream",
     "text": [
      "Progress Bar:   0%|                                                                              | 0/4 [00:00<?, ?it/s]"
     ]
    },
    {
     "name": "stdout",
     "output_type": "stream",
     "text": [
      "Epoch 1/2\n",
      "282/282 - 110s - loss: 0.6019 - accuracy: 0.7963 - 110s/epoch - 391ms/step\n",
      "Epoch 2/2\n",
      "282/282 - 108s - loss: 0.5336 - accuracy: 0.8221 - 108s/epoch - 384ms/step\n"
     ]
    },
    {
     "name": "stderr",
     "output_type": "stream",
     "text": [
      "Progress Bar:  25%|█████████████████▎                                                   | 1/4 [03:38<10:56, 218.97s/it]"
     ]
    },
    {
     "name": "stdout",
     "output_type": "stream",
     "text": [
      "Epoch 1/2\n",
      "407/407 - 160s - loss: 0.6296 - accuracy: 0.7917 - 160s/epoch - 392ms/step\n",
      "Epoch 2/2\n",
      "407/407 - 159s - loss: 0.5692 - accuracy: 0.8098 - 159s/epoch - 391ms/step\n"
     ]
    },
    {
     "name": "stderr",
     "output_type": "stream",
     "text": [
      "Progress Bar:  50%|██████████████████████████████████▌                                  | 2/4 [08:58<09:15, 278.00s/it]"
     ]
    },
    {
     "name": "stdout",
     "output_type": "stream",
     "text": [
      "Epoch 1/2\n",
      "500/500 - 198s - loss: 0.6512 - accuracy: 0.7818 - 198s/epoch - 397ms/step\n",
      "Epoch 2/2\n",
      "500/500 - 194s - loss: 0.5682 - accuracy: 0.8073 - 194s/epoch - 388ms/step\n"
     ]
    },
    {
     "name": "stderr",
     "output_type": "stream",
     "text": [
      "Progress Bar:  75%|███████████████████████████████████████████████████▊                 | 3/4 [15:31<05:30, 330.67s/it]"
     ]
    },
    {
     "name": "stdout",
     "output_type": "stream",
     "text": [
      "Epoch 1/2\n",
      "375/375 - 145s - loss: 0.6056 - accuracy: 0.7999 - 145s/epoch - 388ms/step\n",
      "Epoch 2/2\n",
      "375/375 - 146s - loss: 0.5372 - accuracy: 0.8149 - 146s/epoch - 388ms/step\n"
     ]
    },
    {
     "name": "stderr",
     "output_type": "stream",
     "text": [
      "Progress Bar: 100%|█████████████████████████████████████████████████████████████████████| 4/4 [20:23<00:00, 305.84s/it]\n"
     ]
    },
    {
     "name": "stdout",
     "output_type": "stream",
     "text": [
      "313/313 [==============================] - 30s 95ms/step - loss: 0.7530 - accuracy: 0.7525\n",
      "comm_round: 18 | global_acc: 75.250% | global_loss: 0.7530041337013245\n"
     ]
    },
    {
     "name": "stderr",
     "output_type": "stream",
     "text": [
      "Progress Bar:   0%|                                                                              | 0/4 [00:00<?, ?it/s]"
     ]
    },
    {
     "name": "stdout",
     "output_type": "stream",
     "text": [
      "Epoch 1/2\n",
      "282/282 - 114s - loss: 0.5893 - accuracy: 0.7992 - 114s/epoch - 406ms/step\n",
      "Epoch 2/2\n",
      "282/282 - 111s - loss: 0.5247 - accuracy: 0.8212 - 111s/epoch - 393ms/step\n"
     ]
    },
    {
     "name": "stderr",
     "output_type": "stream",
     "text": [
      "Progress Bar:  25%|█████████████████▎                                                   | 1/4 [03:45<11:17, 225.67s/it]"
     ]
    },
    {
     "name": "stdout",
     "output_type": "stream",
     "text": [
      "Epoch 1/2\n",
      "407/407 - 162s - loss: 0.6049 - accuracy: 0.7989 - 162s/epoch - 399ms/step\n",
      "Epoch 2/2\n",
      "407/407 - 160s - loss: 0.5494 - accuracy: 0.8136 - 160s/epoch - 394ms/step\n"
     ]
    },
    {
     "name": "stderr",
     "output_type": "stream",
     "text": [
      "Progress Bar:  50%|██████████████████████████████████▌                                  | 2/4 [09:08<09:26, 283.09s/it]"
     ]
    },
    {
     "name": "stdout",
     "output_type": "stream",
     "text": [
      "Epoch 1/2\n",
      "500/500 - 203s - loss: 0.6573 - accuracy: 0.7822 - 203s/epoch - 406ms/step\n",
      "Epoch 2/2\n",
      "500/500 - 201s - loss: 0.5642 - accuracy: 0.8071 - 201s/epoch - 401ms/step\n"
     ]
    },
    {
     "name": "stderr",
     "output_type": "stream",
     "text": [
      "Progress Bar:  75%|███████████████████████████████████████████████████▊                 | 3/4 [15:52<05:38, 338.28s/it]"
     ]
    },
    {
     "name": "stdout",
     "output_type": "stream",
     "text": [
      "Epoch 1/2\n",
      "375/375 - 141s - loss: 0.5969 - accuracy: 0.7985 - 141s/epoch - 376ms/step\n",
      "Epoch 2/2\n",
      "375/375 - 137s - loss: 0.5347 - accuracy: 0.8233 - 137s/epoch - 365ms/step\n"
     ]
    },
    {
     "name": "stderr",
     "output_type": "stream",
     "text": [
      "Progress Bar: 100%|█████████████████████████████████████████████████████████████████████| 4/4 [20:31<00:00, 307.82s/it]\n"
     ]
    },
    {
     "name": "stdout",
     "output_type": "stream",
     "text": [
      "313/313 [==============================] - 19s 60ms/step - loss: 0.7933 - accuracy: 0.7374\n",
      "comm_round: 19 | global_acc: 73.740% | global_loss: 0.7932829856872559\n"
     ]
    },
    {
     "name": "stderr",
     "output_type": "stream",
     "text": [
      "Progress Bar:   0%|                                                                              | 0/4 [00:00<?, ?it/s]"
     ]
    },
    {
     "name": "stdout",
     "output_type": "stream",
     "text": [
      "Epoch 1/2\n",
      "282/282 - 105s - loss: 0.6069 - accuracy: 0.8011 - 105s/epoch - 371ms/step\n",
      "Epoch 2/2\n",
      "282/282 - 100s - loss: 0.4790 - accuracy: 0.8357 - 100s/epoch - 353ms/step\n"
     ]
    },
    {
     "name": "stderr",
     "output_type": "stream",
     "text": [
      "Progress Bar:  25%|█████████████████▎                                                   | 1/4 [03:24<10:13, 204.51s/it]"
     ]
    },
    {
     "name": "stdout",
     "output_type": "stream",
     "text": [
      "Epoch 1/2\n",
      "407/407 - 145s - loss: 0.6522 - accuracy: 0.7928 - 145s/epoch - 356ms/step\n",
      "Epoch 2/2\n",
      "407/407 - 144s - loss: 0.5507 - accuracy: 0.8149 - 144s/epoch - 353ms/step\n"
     ]
    },
    {
     "name": "stderr",
     "output_type": "stream",
     "text": [
      "Progress Bar:  50%|██████████████████████████████████▌                                  | 2/4 [08:13<08:28, 254.06s/it]"
     ]
    },
    {
     "name": "stdout",
     "output_type": "stream",
     "text": [
      "Epoch 1/2\n",
      "500/500 - 177s - loss: 0.6201 - accuracy: 0.7922 - 177s/epoch - 354ms/step\n",
      "Epoch 2/2\n",
      "500/500 - 175s - loss: 0.6621 - accuracy: 0.7858 - 175s/epoch - 350ms/step\n"
     ]
    },
    {
     "name": "stderr",
     "output_type": "stream",
     "text": [
      "Progress Bar:  75%|███████████████████████████████████████████████████▊                 | 3/4 [14:05<04:58, 298.96s/it]"
     ]
    },
    {
     "name": "stdout",
     "output_type": "stream",
     "text": [
      "Epoch 1/2\n",
      "375/375 - 135s - loss: 0.6032 - accuracy: 0.8033 - 135s/epoch - 361ms/step\n",
      "Epoch 2/2\n",
      "375/375 - 143s - loss: 0.8183 - accuracy: 0.8049 - 143s/epoch - 382ms/step\n"
     ]
    },
    {
     "name": "stderr",
     "output_type": "stream",
     "text": [
      "Progress Bar: 100%|█████████████████████████████████████████████████████████████████████| 4/4 [18:44<00:00, 281.20s/it]\n"
     ]
    },
    {
     "name": "stdout",
     "output_type": "stream",
     "text": [
      "313/313 [==============================] - 31s 97ms/step - loss: 0.7851 - accuracy: 0.7427\n",
      "comm_round: 20 | global_acc: 74.270% | global_loss: 0.7851350903511047\n"
     ]
    },
    {
     "name": "stderr",
     "output_type": "stream",
     "text": [
      "Progress Bar:   0%|                                                                              | 0/4 [00:00<?, ?it/s]"
     ]
    },
    {
     "name": "stdout",
     "output_type": "stream",
     "text": [
      "Epoch 1/2\n",
      "282/282 - 116s - loss: 0.5831 - accuracy: 0.8057 - 116s/epoch - 413ms/step\n",
      "Epoch 2/2\n",
      "282/282 - 116s - loss: 0.5034 - accuracy: 0.8277 - 116s/epoch - 413ms/step\n"
     ]
    },
    {
     "name": "stderr",
     "output_type": "stream",
     "text": [
      "Progress Bar:  25%|█████████████████▎                                                   | 1/4 [03:53<11:39, 233.28s/it]"
     ]
    },
    {
     "name": "stdout",
     "output_type": "stream",
     "text": [
      "Epoch 1/2\n",
      "407/407 - 164s - loss: 0.5960 - accuracy: 0.8006 - 164s/epoch - 403ms/step\n",
      "Epoch 2/2\n",
      "407/407 - 164s - loss: 0.5557 - accuracy: 0.8178 - 164s/epoch - 402ms/step\n"
     ]
    },
    {
     "name": "stderr",
     "output_type": "stream",
     "text": [
      "Progress Bar:  50%|██████████████████████████████████▌                                  | 2/4 [09:21<09:38, 289.28s/it]"
     ]
    },
    {
     "name": "stdout",
     "output_type": "stream",
     "text": [
      "Epoch 1/2\n",
      "500/500 - 212s - loss: 0.5988 - accuracy: 0.7967 - 212s/epoch - 423ms/step\n",
      "Epoch 2/2\n",
      "500/500 - 200s - loss: 0.5716 - accuracy: 0.8098 - 200s/epoch - 400ms/step\n"
     ]
    },
    {
     "name": "stderr",
     "output_type": "stream",
     "text": [
      "Progress Bar:  75%|███████████████████████████████████████████████████▊                 | 3/4 [16:14<05:45, 345.64s/it]"
     ]
    },
    {
     "name": "stdout",
     "output_type": "stream",
     "text": [
      "Epoch 1/2\n",
      "375/375 - 151s - loss: 0.5946 - accuracy: 0.8061 - 151s/epoch - 403ms/step\n",
      "Epoch 2/2\n",
      "375/375 - 145s - loss: 0.5009 - accuracy: 0.8314 - 145s/epoch - 388ms/step\n"
     ]
    },
    {
     "name": "stderr",
     "output_type": "stream",
     "text": [
      "Progress Bar: 100%|█████████████████████████████████████████████████████████████████████| 4/4 [21:11<00:00, 317.90s/it]\n"
     ]
    },
    {
     "name": "stdout",
     "output_type": "stream",
     "text": [
      "313/313 [==============================] - 32s 99ms/step - loss: 0.7669 - accuracy: 0.7495\n",
      "comm_round: 21 | global_acc: 74.950% | global_loss: 0.7668837904930115\n"
     ]
    },
    {
     "name": "stderr",
     "output_type": "stream",
     "text": [
      "Progress Bar:   0%|                                                                              | 0/4 [00:00<?, ?it/s]"
     ]
    },
    {
     "name": "stdout",
     "output_type": "stream",
     "text": [
      "Epoch 1/2\n",
      "282/282 - 115s - loss: 0.5947 - accuracy: 0.8038 - 115s/epoch - 406ms/step\n",
      "Epoch 2/2\n",
      "282/282 - 116s - loss: 0.4685 - accuracy: 0.8371 - 116s/epoch - 410ms/step\n"
     ]
    },
    {
     "name": "stderr",
     "output_type": "stream",
     "text": [
      "Progress Bar:  25%|█████████████████▎                                                   | 1/4 [03:50<11:32, 230.76s/it]"
     ]
    },
    {
     "name": "stdout",
     "output_type": "stream",
     "text": [
      "Epoch 1/2\n",
      "407/407 - 171s - loss: 0.5922 - accuracy: 0.8031 - 171s/epoch - 421ms/step\n",
      "Epoch 2/2\n",
      "407/407 - 164s - loss: 0.5982 - accuracy: 0.8062 - 164s/epoch - 402ms/step\n"
     ]
    },
    {
     "name": "stderr",
     "output_type": "stream",
     "text": [
      "Progress Bar:  50%|██████████████████████████████████▌                                  | 2/4 [09:26<09:44, 292.41s/it]"
     ]
    },
    {
     "name": "stdout",
     "output_type": "stream",
     "text": [
      "Epoch 1/2\n",
      "500/500 - 204s - loss: 0.6056 - accuracy: 0.7962 - 204s/epoch - 408ms/step\n",
      "Epoch 2/2\n",
      "500/500 - 202s - loss: 0.5394 - accuracy: 0.8167 - 202s/epoch - 404ms/step\n"
     ]
    },
    {
     "name": "stderr",
     "output_type": "stream",
     "text": [
      "Progress Bar:  75%|███████████████████████████████████████████████████▊                 | 3/4 [16:13<05:44, 344.60s/it]"
     ]
    },
    {
     "name": "stdout",
     "output_type": "stream",
     "text": [
      "Epoch 1/2\n",
      "375/375 - 155s - loss: 0.6255 - accuracy: 0.8032 - 155s/epoch - 413ms/step\n",
      "Epoch 2/2\n",
      "375/375 - 151s - loss: 0.4819 - accuracy: 0.8365 - 151s/epoch - 403ms/step\n"
     ]
    },
    {
     "name": "stderr",
     "output_type": "stream",
     "text": [
      "Progress Bar: 100%|█████████████████████████████████████████████████████████████████████| 4/4 [21:19<00:00, 319.98s/it]\n"
     ]
    },
    {
     "name": "stdout",
     "output_type": "stream",
     "text": [
      "313/313 [==============================] - 31s 97ms/step - loss: 0.8284 - accuracy: 0.7213\n",
      "comm_round: 22 | global_acc: 72.130% | global_loss: 0.8283938765525818\n"
     ]
    },
    {
     "name": "stderr",
     "output_type": "stream",
     "text": [
      "Progress Bar:   0%|                                                                              | 0/4 [00:00<?, ?it/s]"
     ]
    },
    {
     "name": "stdout",
     "output_type": "stream",
     "text": [
      "Epoch 1/2\n",
      "282/282 - 114s - loss: 0.5653 - accuracy: 0.8081 - 114s/epoch - 404ms/step\n",
      "Epoch 2/2\n",
      "282/282 - 114s - loss: 0.4552 - accuracy: 0.8421 - 114s/epoch - 404ms/step\n"
     ]
    },
    {
     "name": "stderr",
     "output_type": "stream",
     "text": [
      "Progress Bar:  25%|█████████████████▎                                                   | 1/4 [03:48<11:24, 228.14s/it]"
     ]
    },
    {
     "name": "stdout",
     "output_type": "stream",
     "text": [
      "Epoch 1/2\n",
      "407/407 - 169s - loss: 0.6243 - accuracy: 0.7968 - 169s/epoch - 415ms/step\n",
      "Epoch 2/2\n",
      "407/407 - 167s - loss: 0.5736 - accuracy: 0.8122 - 167s/epoch - 409ms/step\n"
     ]
    },
    {
     "name": "stderr",
     "output_type": "stream",
     "text": [
      "Progress Bar:  50%|██████████████████████████████████▌                                  | 2/4 [09:24<09:43, 291.65s/it]"
     ]
    },
    {
     "name": "stdout",
     "output_type": "stream",
     "text": [
      "Epoch 1/2\n",
      "500/500 - 184s - loss: 0.5977 - accuracy: 0.7988 - 184s/epoch - 368ms/step\n",
      "Epoch 2/2\n",
      "500/500 - 183s - loss: 0.5225 - accuracy: 0.8234 - 183s/epoch - 366ms/step\n"
     ]
    },
    {
     "name": "stderr",
     "output_type": "stream",
     "text": [
      "Progress Bar:  75%|███████████████████████████████████████████████████▊                 | 3/4 [15:32<05:26, 326.50s/it]"
     ]
    },
    {
     "name": "stdout",
     "output_type": "stream",
     "text": [
      "Epoch 1/2\n",
      "375/375 - 136s - loss: 0.5816 - accuracy: 0.8072 - 136s/epoch - 363ms/step\n",
      "Epoch 2/2\n",
      "375/375 - 135s - loss: 0.4880 - accuracy: 0.8344 - 135s/epoch - 361ms/step\n"
     ]
    },
    {
     "name": "stderr",
     "output_type": "stream",
     "text": [
      "Progress Bar: 100%|█████████████████████████████████████████████████████████████████████| 4/4 [20:04<00:00, 301.02s/it]\n"
     ]
    },
    {
     "name": "stdout",
     "output_type": "stream",
     "text": [
      "313/313 [==============================] - 20s 63ms/step - loss: 0.8081 - accuracy: 0.7381\n",
      "comm_round: 23 | global_acc: 73.810% | global_loss: 0.8081225752830505\n"
     ]
    },
    {
     "name": "stderr",
     "output_type": "stream",
     "text": [
      "Progress Bar:   0%|                                                                              | 0/4 [00:00<?, ?it/s]"
     ]
    },
    {
     "name": "stdout",
     "output_type": "stream",
     "text": [
      "Epoch 1/2\n",
      "282/282 - 103s - loss: 0.5907 - accuracy: 0.8110 - 103s/epoch - 367ms/step\n",
      "Epoch 2/2\n",
      "282/282 - 101s - loss: 0.4959 - accuracy: 0.8361 - 101s/epoch - 358ms/step\n"
     ]
    },
    {
     "name": "stderr",
     "output_type": "stream",
     "text": [
      "Progress Bar:  25%|█████████████████▎                                                   | 1/4 [03:24<10:13, 204.66s/it]"
     ]
    },
    {
     "name": "stdout",
     "output_type": "stream",
     "text": [
      "Epoch 1/2\n",
      "407/407 - 147s - loss: 0.5912 - accuracy: 0.8052 - 147s/epoch - 361ms/step\n",
      "Epoch 2/2\n",
      "407/407 - 146s - loss: 0.5183 - accuracy: 0.8263 - 146s/epoch - 358ms/step\n"
     ]
    },
    {
     "name": "stderr",
     "output_type": "stream",
     "text": [
      "Progress Bar:  50%|██████████████████████████████████▌                                  | 2/4 [08:17<08:32, 256.42s/it]"
     ]
    },
    {
     "name": "stdout",
     "output_type": "stream",
     "text": [
      "Epoch 1/2\n",
      "500/500 - 181s - loss: 0.6168 - accuracy: 0.8005 - 181s/epoch - 362ms/step\n",
      "Epoch 2/2\n",
      "500/500 - 180s - loss: 0.5135 - accuracy: 0.8262 - 180s/epoch - 360ms/step\n"
     ]
    },
    {
     "name": "stderr",
     "output_type": "stream",
     "text": [
      "Progress Bar:  75%|███████████████████████████████████████████████████▊                 | 3/4 [14:18<05:04, 304.41s/it]"
     ]
    },
    {
     "name": "stdout",
     "output_type": "stream",
     "text": [
      "Epoch 1/2\n",
      "375/375 - 137s - loss: 0.5879 - accuracy: 0.8183 - 137s/epoch - 366ms/step\n",
      "Epoch 2/2\n",
      "375/375 - 134s - loss: 0.8712 - accuracy: 0.7993 - 134s/epoch - 359ms/step\n"
     ]
    },
    {
     "name": "stderr",
     "output_type": "stream",
     "text": [
      "Progress Bar: 100%|█████████████████████████████████████████████████████████████████████| 4/4 [18:50<00:00, 282.70s/it]\n"
     ]
    },
    {
     "name": "stdout",
     "output_type": "stream",
     "text": [
      "313/313 [==============================] - 22s 70ms/step - loss: 0.8558 - accuracy: 0.7260\n",
      "comm_round: 24 | global_acc: 72.600% | global_loss: 0.8558022379875183\n"
     ]
    },
    {
     "name": "stderr",
     "output_type": "stream",
     "text": [
      "Progress Bar:   0%|                                                                              | 0/4 [00:00<?, ?it/s]"
     ]
    },
    {
     "name": "stdout",
     "output_type": "stream",
     "text": [
      "Epoch 1/2\n",
      "282/282 - 102s - loss: 0.5529 - accuracy: 0.8144 - 102s/epoch - 363ms/step\n",
      "Epoch 2/2\n",
      "282/282 - 102s - loss: 0.5046 - accuracy: 0.8326 - 102s/epoch - 362ms/step\n"
     ]
    },
    {
     "name": "stderr",
     "output_type": "stream",
     "text": [
      "Progress Bar:  25%|█████████████████▎                                                   | 1/4 [03:24<10:14, 204.76s/it]"
     ]
    },
    {
     "name": "stdout",
     "output_type": "stream",
     "text": [
      "Epoch 1/2\n",
      "407/407 - 152s - loss: 0.5612 - accuracy: 0.8158 - 152s/epoch - 373ms/step\n",
      "Epoch 2/2\n",
      "407/407 - 151s - loss: 0.5012 - accuracy: 0.8312 - 151s/epoch - 371ms/step\n"
     ]
    },
    {
     "name": "stderr",
     "output_type": "stream",
     "text": [
      "Progress Bar:  50%|██████████████████████████████████▌                                  | 2/4 [08:27<08:44, 262.49s/it]"
     ]
    },
    {
     "name": "stdout",
     "output_type": "stream",
     "text": [
      "Epoch 1/2\n",
      "500/500 - 180s - loss: 0.5798 - accuracy: 0.8004 - 180s/epoch - 359ms/step\n",
      "Epoch 2/2\n",
      "500/500 - 179s - loss: 0.5551 - accuracy: 0.8092 - 179s/epoch - 359ms/step\n"
     ]
    },
    {
     "name": "stderr",
     "output_type": "stream",
     "text": [
      "Progress Bar:  75%|███████████████████████████████████████████████████▊                 | 3/4 [14:27<05:06, 306.73s/it]"
     ]
    },
    {
     "name": "stdout",
     "output_type": "stream",
     "text": [
      "Epoch 1/2\n",
      "375/375 - 134s - loss: 0.5802 - accuracy: 0.8113 - 134s/epoch - 359ms/step\n",
      "Epoch 2/2\n",
      "375/375 - 134s - loss: 0.4638 - accuracy: 0.8418 - 134s/epoch - 357ms/step\n"
     ]
    },
    {
     "name": "stderr",
     "output_type": "stream",
     "text": [
      "Progress Bar: 100%|█████████████████████████████████████████████████████████████████████| 4/4 [18:55<00:00, 283.88s/it]\n"
     ]
    },
    {
     "name": "stdout",
     "output_type": "stream",
     "text": [
      "313/313 [==============================] - 20s 63ms/step - loss: 0.8132 - accuracy: 0.7353\n",
      "comm_round: 25 | global_acc: 73.530% | global_loss: 0.8131614327430725\n"
     ]
    },
    {
     "name": "stderr",
     "output_type": "stream",
     "text": [
      "Progress Bar:   0%|                                                                              | 0/4 [00:00<?, ?it/s]"
     ]
    },
    {
     "name": "stdout",
     "output_type": "stream",
     "text": [
      "Epoch 1/2\n",
      "282/282 - 103s - loss: 0.5648 - accuracy: 0.8179 - 103s/epoch - 367ms/step\n",
      "Epoch 2/2\n",
      "282/282 - 103s - loss: 0.4508 - accuracy: 0.8441 - 103s/epoch - 364ms/step\n"
     ]
    },
    {
     "name": "stderr",
     "output_type": "stream",
     "text": [
      "Progress Bar:  25%|█████████████████▎                                                   | 1/4 [03:26<10:18, 206.30s/it]"
     ]
    },
    {
     "name": "stdout",
     "output_type": "stream",
     "text": [
      "Epoch 1/2\n",
      "407/407 - 147s - loss: 0.6087 - accuracy: 0.8041 - 147s/epoch - 361ms/step\n",
      "Epoch 2/2\n",
      "407/407 - 147s - loss: 0.5623 - accuracy: 0.8131 - 147s/epoch - 360ms/step\n"
     ]
    },
    {
     "name": "stderr",
     "output_type": "stream",
     "text": [
      "Progress Bar:  50%|██████████████████████████████████▌                                  | 2/4 [08:20<08:35, 257.77s/it]"
     ]
    },
    {
     "name": "stdout",
     "output_type": "stream",
     "text": [
      "Epoch 1/2\n",
      "500/500 - 178s - loss: 0.6020 - accuracy: 0.8013 - 178s/epoch - 357ms/step\n",
      "Epoch 2/2\n",
      "500/500 - 178s - loss: 0.4999 - accuracy: 0.8321 - 178s/epoch - 355ms/step\n"
     ]
    },
    {
     "name": "stderr",
     "output_type": "stream",
     "text": [
      "Progress Bar:  75%|███████████████████████████████████████████████████▊                 | 3/4 [14:16<05:02, 302.82s/it]"
     ]
    },
    {
     "name": "stdout",
     "output_type": "stream",
     "text": [
      "Epoch 1/2\n",
      "375/375 - 134s - loss: 0.5657 - accuracy: 0.8118 - 134s/epoch - 358ms/step\n",
      "Epoch 2/2\n",
      "375/375 - 134s - loss: 0.4973 - accuracy: 0.8361 - 134s/epoch - 357ms/step\n"
     ]
    },
    {
     "name": "stderr",
     "output_type": "stream",
     "text": [
      "Progress Bar: 100%|█████████████████████████████████████████████████████████████████████| 4/4 [18:44<00:00, 281.23s/it]\n"
     ]
    },
    {
     "name": "stdout",
     "output_type": "stream",
     "text": [
      "313/313 [==============================] - 20s 63ms/step - loss: 0.7968 - accuracy: 0.7512\n",
      "comm_round: 26 | global_acc: 75.120% | global_loss: 0.7968147397041321\n"
     ]
    },
    {
     "name": "stderr",
     "output_type": "stream",
     "text": [
      "Progress Bar:   0%|                                                                              | 0/4 [00:00<?, ?it/s]"
     ]
    },
    {
     "name": "stdout",
     "output_type": "stream",
     "text": [
      "Epoch 1/2\n",
      "282/282 - 102s - loss: 0.5697 - accuracy: 0.8113 - 102s/epoch - 361ms/step\n",
      "Epoch 2/2\n",
      "282/282 - 102s - loss: 0.4180 - accuracy: 0.8539 - 102s/epoch - 361ms/step\n"
     ]
    },
    {
     "name": "stderr",
     "output_type": "stream",
     "text": [
      "Progress Bar:  25%|█████████████████▎                                                   | 1/4 [03:23<10:10, 203.65s/it]"
     ]
    },
    {
     "name": "stdout",
     "output_type": "stream",
     "text": [
      "Epoch 1/2\n",
      "407/407 - 157s - loss: 0.5784 - accuracy: 0.8145 - 157s/epoch - 386ms/step\n",
      "Epoch 2/2\n",
      "407/407 - 157s - loss: 0.4606 - accuracy: 0.8455 - 157s/epoch - 385ms/step\n"
     ]
    },
    {
     "name": "stderr",
     "output_type": "stream",
     "text": [
      "Progress Bar:  50%|██████████████████████████████████▌                                  | 2/4 [08:37<08:57, 268.73s/it]"
     ]
    },
    {
     "name": "stdout",
     "output_type": "stream",
     "text": [
      "Epoch 1/2\n",
      "500/500 - 181s - loss: 0.6132 - accuracy: 0.8020 - 181s/epoch - 362ms/step\n",
      "Epoch 2/2\n",
      "500/500 - 181s - loss: 0.4976 - accuracy: 0.8325 - 181s/epoch - 362ms/step\n"
     ]
    },
    {
     "name": "stderr",
     "output_type": "stream",
     "text": [
      "Progress Bar:  75%|███████████████████████████████████████████████████▊                 | 3/4 [14:40<05:11, 311.44s/it]"
     ]
    },
    {
     "name": "stdout",
     "output_type": "stream",
     "text": [
      "Epoch 1/2\n",
      "375/375 - 137s - loss: 0.5414 - accuracy: 0.8240 - 137s/epoch - 367ms/step\n",
      "Epoch 2/2\n",
      "375/375 - 142s - loss: 0.4668 - accuracy: 0.8422 - 142s/epoch - 378ms/step\n"
     ]
    },
    {
     "name": "stderr",
     "output_type": "stream",
     "text": [
      "Progress Bar: 100%|█████████████████████████████████████████████████████████████████████| 4/4 [19:19<00:00, 289.98s/it]\n"
     ]
    },
    {
     "name": "stdout",
     "output_type": "stream",
     "text": [
      "313/313 [==============================] - 21s 66ms/step - loss: 0.8199 - accuracy: 0.7533\n",
      "comm_round: 27 | global_acc: 75.330% | global_loss: 0.8198774456977844\n"
     ]
    },
    {
     "name": "stderr",
     "output_type": "stream",
     "text": [
      "Progress Bar:   0%|                                                                              | 0/4 [00:00<?, ?it/s]"
     ]
    },
    {
     "name": "stdout",
     "output_type": "stream",
     "text": [
      "Epoch 1/2\n",
      "282/282 - 104s - loss: 0.5553 - accuracy: 0.8231 - 104s/epoch - 369ms/step\n",
      "Epoch 2/2\n",
      "282/282 - 103s - loss: 0.4490 - accuracy: 0.8433 - 103s/epoch - 364ms/step\n"
     ]
    },
    {
     "name": "stderr",
     "output_type": "stream",
     "text": [
      "Progress Bar:  25%|█████████████████▎                                                   | 1/4 [03:26<10:20, 206.89s/it]"
     ]
    },
    {
     "name": "stdout",
     "output_type": "stream",
     "text": [
      "Epoch 1/2\n",
      "407/407 - 149s - loss: 0.5399 - accuracy: 0.8220 - 149s/epoch - 366ms/step\n",
      "Epoch 2/2\n",
      "407/407 - 147s - loss: 0.6650 - accuracy: 0.8042 - 147s/epoch - 361ms/step\n"
     ]
    },
    {
     "name": "stderr",
     "output_type": "stream",
     "text": [
      "Progress Bar:  50%|██████████████████████████████████▌                                  | 2/4 [08:22<08:38, 259.35s/it]"
     ]
    },
    {
     "name": "stdout",
     "output_type": "stream",
     "text": [
      "Epoch 1/2\n",
      "500/500 - 184s - loss: 0.5545 - accuracy: 0.8138 - 184s/epoch - 367ms/step\n",
      "Epoch 2/2\n",
      "500/500 - 180s - loss: 0.4890 - accuracy: 0.8362 - 180s/epoch - 360ms/step\n"
     ]
    },
    {
     "name": "stderr",
     "output_type": "stream",
     "text": [
      "Progress Bar:  75%|███████████████████████████████████████████████████▊                 | 3/4 [14:26<05:06, 306.98s/it]"
     ]
    },
    {
     "name": "stdout",
     "output_type": "stream",
     "text": [
      "Epoch 1/2\n",
      "375/375 - 136s - loss: 0.5255 - accuracy: 0.8260 - 136s/epoch - 362ms/step\n",
      "Epoch 2/2\n",
      "375/375 - 134s - loss: 0.4435 - accuracy: 0.8533 - 134s/epoch - 358ms/step\n"
     ]
    },
    {
     "name": "stderr",
     "output_type": "stream",
     "text": [
      "Progress Bar: 100%|█████████████████████████████████████████████████████████████████████| 4/4 [18:56<00:00, 284.22s/it]\n"
     ]
    },
    {
     "name": "stdout",
     "output_type": "stream",
     "text": [
      "313/313 [==============================] - 20s 63ms/step - loss: 0.8629 - accuracy: 0.7397\n",
      "comm_round: 28 | global_acc: 73.970% | global_loss: 0.8628799915313721\n"
     ]
    },
    {
     "name": "stderr",
     "output_type": "stream",
     "text": [
      "Progress Bar:   0%|                                                                              | 0/4 [00:00<?, ?it/s]"
     ]
    },
    {
     "name": "stdout",
     "output_type": "stream",
     "text": [
      "Epoch 1/2\n",
      "282/282 - 101s - loss: 0.5024 - accuracy: 0.8351 - 101s/epoch - 360ms/step\n",
      "Epoch 2/2\n",
      "282/282 - 101s - loss: 0.5800 - accuracy: 0.8363 - 101s/epoch - 357ms/step\n"
     ]
    },
    {
     "name": "stderr",
     "output_type": "stream",
     "text": [
      "Progress Bar:  25%|█████████████████▎                                                   | 1/4 [03:22<10:07, 202.37s/it]"
     ]
    },
    {
     "name": "stdout",
     "output_type": "stream",
     "text": [
      "Epoch 1/2\n",
      "407/407 - 150s - loss: 0.5682 - accuracy: 0.8155 - 150s/epoch - 368ms/step\n",
      "Epoch 2/2\n",
      "407/407 - 150s - loss: 0.4854 - accuracy: 0.8356 - 150s/epoch - 369ms/step\n"
     ]
    },
    {
     "name": "stderr",
     "output_type": "stream",
     "text": [
      "Progress Bar:  50%|██████████████████████████████████▌                                  | 2/4 [08:22<08:39, 259.84s/it]"
     ]
    },
    {
     "name": "stdout",
     "output_type": "stream",
     "text": [
      "Epoch 1/2\n",
      "500/500 - 179s - loss: 0.5828 - accuracy: 0.8116 - 179s/epoch - 359ms/step\n",
      "Epoch 2/2\n",
      "500/500 - 196s - loss: 0.5466 - accuracy: 0.8228 - 196s/epoch - 391ms/step\n"
     ]
    },
    {
     "name": "stderr",
     "output_type": "stream",
     "text": [
      "Progress Bar:  75%|███████████████████████████████████████████████████▊                 | 3/4 [14:37<05:12, 312.64s/it]"
     ]
    },
    {
     "name": "stdout",
     "output_type": "stream",
     "text": [
      "Epoch 1/2\n",
      "375/375 - 154s - loss: 0.5485 - accuracy: 0.8289 - 154s/epoch - 412ms/step\n",
      "Epoch 2/2\n",
      "375/375 - 150s - loss: 0.5339 - accuracy: 0.8342 - 150s/epoch - 401ms/step\n"
     ]
    },
    {
     "name": "stderr",
     "output_type": "stream",
     "text": [
      "Progress Bar: 100%|█████████████████████████████████████████████████████████████████████| 4/4 [19:43<00:00, 295.81s/it]\n"
     ]
    },
    {
     "name": "stdout",
     "output_type": "stream",
     "text": [
      "313/313 [==============================] - 33s 103ms/step - loss: 0.8442 - accuracy: 0.7244\n",
      "comm_round: 29 | global_acc: 72.440% | global_loss: 0.8441759943962097\n"
     ]
    },
    {
     "name": "stderr",
     "output_type": "stream",
     "text": [
      "Progress Bar:   0%|                                                                              | 0/4 [00:00<?, ?it/s]"
     ]
    },
    {
     "name": "stdout",
     "output_type": "stream",
     "text": [
      "Epoch 1/2\n",
      "282/282 - 119s - loss: 0.5393 - accuracy: 0.8297 - 119s/epoch - 421ms/step\n",
      "Epoch 2/2\n",
      "282/282 - 112s - loss: 0.4315 - accuracy: 0.8544 - 112s/epoch - 397ms/step\n"
     ]
    },
    {
     "name": "stderr",
     "output_type": "stream",
     "text": [
      "Progress Bar:  25%|█████████████████▎                                                   | 1/4 [03:51<11:33, 231.28s/it]"
     ]
    },
    {
     "name": "stdout",
     "output_type": "stream",
     "text": [
      "Epoch 1/2\n",
      "407/407 - 162s - loss: 0.5788 - accuracy: 0.8064 - 162s/epoch - 398ms/step\n",
      "Epoch 2/2\n",
      "407/407 - 169s - loss: 0.4910 - accuracy: 0.8393 - 169s/epoch - 416ms/step\n"
     ]
    },
    {
     "name": "stderr",
     "output_type": "stream",
     "text": [
      "Progress Bar:  50%|██████████████████████████████████▌                                  | 2/4 [09:23<09:41, 290.60s/it]"
     ]
    },
    {
     "name": "stdout",
     "output_type": "stream",
     "text": [
      "Epoch 1/2\n",
      "500/500 - 218s - loss: 0.5432 - accuracy: 0.8196 - 218s/epoch - 437ms/step\n",
      "Epoch 2/2\n",
      "500/500 - 213s - loss: 0.4673 - accuracy: 0.8439 - 213s/epoch - 425ms/step\n"
     ]
    },
    {
     "name": "stderr",
     "output_type": "stream",
     "text": [
      "Progress Bar:  75%|███████████████████████████████████████████████████▊                 | 3/4 [16:35<05:55, 355.09s/it]"
     ]
    },
    {
     "name": "stdout",
     "output_type": "stream",
     "text": [
      "Epoch 1/2\n",
      "375/375 - 158s - loss: 0.5354 - accuracy: 0.8237 - 158s/epoch - 420ms/step\n",
      "Epoch 2/2\n",
      "375/375 - 159s - loss: 0.5414 - accuracy: 0.8303 - 159s/epoch - 424ms/step\n"
     ]
    },
    {
     "name": "stderr",
     "output_type": "stream",
     "text": [
      "Progress Bar: 100%|█████████████████████████████████████████████████████████████████████| 4/4 [21:52<00:00, 328.11s/it]\n"
     ]
    },
    {
     "name": "stdout",
     "output_type": "stream",
     "text": [
      "313/313 [==============================] - 35s 110ms/step - loss: 0.9784 - accuracy: 0.7473\n",
      "comm_round: 30 | global_acc: 74.730% | global_loss: 0.9784038066864014\n"
     ]
    },
    {
     "name": "stderr",
     "output_type": "stream",
     "text": [
      "Progress Bar:   0%|                                                                              | 0/4 [00:00<?, ?it/s]"
     ]
    },
    {
     "name": "stdout",
     "output_type": "stream",
     "text": [
      "Epoch 1/2\n",
      "282/282 - 125s - loss: 0.5052 - accuracy: 0.8311 - 125s/epoch - 442ms/step\n",
      "Epoch 2/2\n",
      "282/282 - 122s - loss: 0.4325 - accuracy: 0.8561 - 122s/epoch - 432ms/step\n"
     ]
    },
    {
     "name": "stderr",
     "output_type": "stream",
     "text": [
      "Progress Bar:  25%|█████████████████▎                                                   | 1/4 [04:07<12:21, 247.04s/it]"
     ]
    },
    {
     "name": "stdout",
     "output_type": "stream",
     "text": [
      "Epoch 1/2\n",
      "407/407 - 175s - loss: 0.5689 - accuracy: 0.8181 - 175s/epoch - 431ms/step\n",
      "Epoch 2/2\n",
      "407/407 - 167s - loss: 0.6202 - accuracy: 0.8016 - 167s/epoch - 410ms/step\n"
     ]
    },
    {
     "name": "stderr",
     "output_type": "stream",
     "text": [
      "Progress Bar:  50%|██████████████████████████████████▌                                  | 2/4 [09:50<10:07, 303.58s/it]"
     ]
    },
    {
     "name": "stdout",
     "output_type": "stream",
     "text": [
      "Epoch 1/2\n",
      "500/500 - 214s - loss: 0.5578 - accuracy: 0.8127 - 214s/epoch - 428ms/step\n",
      "Epoch 2/2\n",
      "500/500 - 204s - loss: 0.5816 - accuracy: 0.8232 - 204s/epoch - 408ms/step\n"
     ]
    },
    {
     "name": "stderr",
     "output_type": "stream",
     "text": [
      "Progress Bar:  75%|███████████████████████████████████████████████████▊                 | 3/4 [16:49<05:56, 356.22s/it]"
     ]
    },
    {
     "name": "stdout",
     "output_type": "stream",
     "text": [
      "Epoch 1/2\n",
      "375/375 - 154s - loss: 0.5308 - accuracy: 0.8243 - 154s/epoch - 410ms/step\n",
      "Epoch 2/2\n",
      "375/375 - 151s - loss: 0.4304 - accuracy: 0.8558 - 151s/epoch - 403ms/step\n"
     ]
    },
    {
     "name": "stderr",
     "output_type": "stream",
     "text": [
      "Progress Bar: 100%|█████████████████████████████████████████████████████████████████████| 4/4 [21:54<00:00, 328.68s/it]\n"
     ]
    },
    {
     "name": "stdout",
     "output_type": "stream",
     "text": [
      "313/313 [==============================] - 30s 96ms/step - loss: 1.2291 - accuracy: 0.6182\n",
      "comm_round: 31 | global_acc: 61.820% | global_loss: 1.2291247844696045\n"
     ]
    },
    {
     "name": "stderr",
     "output_type": "stream",
     "text": [
      "Progress Bar:   0%|                                                                              | 0/4 [00:00<?, ?it/s]"
     ]
    },
    {
     "name": "stdout",
     "output_type": "stream",
     "text": [
      "Epoch 1/2\n",
      "282/282 - 115s - loss: 0.5052 - accuracy: 0.8310 - 115s/epoch - 408ms/step\n",
      "Epoch 2/2\n",
      "282/282 - 115s - loss: 0.6503 - accuracy: 0.8131 - 115s/epoch - 407ms/step\n"
     ]
    },
    {
     "name": "stderr",
     "output_type": "stream",
     "text": [
      "Progress Bar:  25%|█████████████████▎                                                   | 1/4 [03:50<11:31, 230.53s/it]"
     ]
    },
    {
     "name": "stdout",
     "output_type": "stream",
     "text": [
      "Epoch 1/2\n"
     ]
    },
    {
     "name": "stderr",
     "output_type": "stream",
     "text": [
      "Progress Bar:  25%|█████████████████▎                                                   | 1/4 [05:46<17:18, 346.17s/it]\n"
     ]
    },
    {
     "ename": "KeyboardInterrupt",
     "evalue": "",
     "output_type": "error",
     "traceback": [
      "\u001b[1;31m---------------------------------------------------------------------------\u001b[0m",
      "\u001b[1;31mKeyboardInterrupt\u001b[0m                         Traceback (most recent call last)",
      "Cell \u001b[1;32mIn[13], line 34\u001b[0m\n\u001b[0;32m     31\u001b[0m local_model\u001b[38;5;241m.\u001b[39mset_weights(global_weights)\n\u001b[0;32m     33\u001b[0m \u001b[38;5;66;03m# Fit local model with client's data\u001b[39;00m\n\u001b[1;32m---> 34\u001b[0m local_model\u001b[38;5;241m.\u001b[39mfit(\n\u001b[0;32m     35\u001b[0m     np\u001b[38;5;241m.\u001b[39marray(clients_batched[client][\u001b[38;5;241m0\u001b[39m]),\n\u001b[0;32m     36\u001b[0m     np\u001b[38;5;241m.\u001b[39marray(clients_batched[client][\u001b[38;5;241m1\u001b[39m]),\n\u001b[0;32m     37\u001b[0m     epochs\u001b[38;5;241m=\u001b[39m\u001b[38;5;241m2\u001b[39m,\n\u001b[0;32m     38\u001b[0m     batch_size\u001b[38;5;241m=\u001b[39m\u001b[38;5;241m32\u001b[39m,\n\u001b[0;32m     39\u001b[0m     verbose\u001b[38;5;241m=\u001b[39m\u001b[38;5;241m2\u001b[39m\n\u001b[0;32m     40\u001b[0m )\n\u001b[0;32m     42\u001b[0m \u001b[38;5;66;03m# Get the scaled model weights and add to the list\u001b[39;00m\n\u001b[0;32m     43\u001b[0m weights \u001b[38;5;241m=\u001b[39m local_model\u001b[38;5;241m.\u001b[39mget_weights()\n",
      "File \u001b[1;32mC:\\ProgramData\\anaconda3\\Lib\\site-packages\\keras\\src\\utils\\traceback_utils.py:65\u001b[0m, in \u001b[0;36mfilter_traceback.<locals>.error_handler\u001b[1;34m(*args, **kwargs)\u001b[0m\n\u001b[0;32m     63\u001b[0m filtered_tb \u001b[38;5;241m=\u001b[39m \u001b[38;5;28;01mNone\u001b[39;00m\n\u001b[0;32m     64\u001b[0m \u001b[38;5;28;01mtry\u001b[39;00m:\n\u001b[1;32m---> 65\u001b[0m     \u001b[38;5;28;01mreturn\u001b[39;00m fn(\u001b[38;5;241m*\u001b[39margs, \u001b[38;5;241m*\u001b[39m\u001b[38;5;241m*\u001b[39mkwargs)\n\u001b[0;32m     66\u001b[0m \u001b[38;5;28;01mexcept\u001b[39;00m \u001b[38;5;167;01mException\u001b[39;00m \u001b[38;5;28;01mas\u001b[39;00m e:\n\u001b[0;32m     67\u001b[0m     filtered_tb \u001b[38;5;241m=\u001b[39m _process_traceback_frames(e\u001b[38;5;241m.\u001b[39m__traceback__)\n",
      "File \u001b[1;32mC:\\ProgramData\\anaconda3\\Lib\\site-packages\\keras\\src\\engine\\training.py:1807\u001b[0m, in \u001b[0;36mModel.fit\u001b[1;34m(self, x, y, batch_size, epochs, verbose, callbacks, validation_split, validation_data, shuffle, class_weight, sample_weight, initial_epoch, steps_per_epoch, validation_steps, validation_batch_size, validation_freq, max_queue_size, workers, use_multiprocessing)\u001b[0m\n\u001b[0;32m   1799\u001b[0m \u001b[38;5;28;01mwith\u001b[39;00m tf\u001b[38;5;241m.\u001b[39mprofiler\u001b[38;5;241m.\u001b[39mexperimental\u001b[38;5;241m.\u001b[39mTrace(\n\u001b[0;32m   1800\u001b[0m     \u001b[38;5;124m\"\u001b[39m\u001b[38;5;124mtrain\u001b[39m\u001b[38;5;124m\"\u001b[39m,\n\u001b[0;32m   1801\u001b[0m     epoch_num\u001b[38;5;241m=\u001b[39mepoch,\n\u001b[1;32m   (...)\u001b[0m\n\u001b[0;32m   1804\u001b[0m     _r\u001b[38;5;241m=\u001b[39m\u001b[38;5;241m1\u001b[39m,\n\u001b[0;32m   1805\u001b[0m ):\n\u001b[0;32m   1806\u001b[0m     callbacks\u001b[38;5;241m.\u001b[39mon_train_batch_begin(step)\n\u001b[1;32m-> 1807\u001b[0m     tmp_logs \u001b[38;5;241m=\u001b[39m \u001b[38;5;28mself\u001b[39m\u001b[38;5;241m.\u001b[39mtrain_function(iterator)\n\u001b[0;32m   1808\u001b[0m     \u001b[38;5;28;01mif\u001b[39;00m data_handler\u001b[38;5;241m.\u001b[39mshould_sync:\n\u001b[0;32m   1809\u001b[0m         context\u001b[38;5;241m.\u001b[39masync_wait()\n",
      "File \u001b[1;32mC:\\ProgramData\\anaconda3\\Lib\\site-packages\\tensorflow\\python\\util\\traceback_utils.py:150\u001b[0m, in \u001b[0;36mfilter_traceback.<locals>.error_handler\u001b[1;34m(*args, **kwargs)\u001b[0m\n\u001b[0;32m    148\u001b[0m filtered_tb \u001b[38;5;241m=\u001b[39m \u001b[38;5;28;01mNone\u001b[39;00m\n\u001b[0;32m    149\u001b[0m \u001b[38;5;28;01mtry\u001b[39;00m:\n\u001b[1;32m--> 150\u001b[0m   \u001b[38;5;28;01mreturn\u001b[39;00m fn(\u001b[38;5;241m*\u001b[39margs, \u001b[38;5;241m*\u001b[39m\u001b[38;5;241m*\u001b[39mkwargs)\n\u001b[0;32m    151\u001b[0m \u001b[38;5;28;01mexcept\u001b[39;00m \u001b[38;5;167;01mException\u001b[39;00m \u001b[38;5;28;01mas\u001b[39;00m e:\n\u001b[0;32m    152\u001b[0m   filtered_tb \u001b[38;5;241m=\u001b[39m _process_traceback_frames(e\u001b[38;5;241m.\u001b[39m__traceback__)\n",
      "File \u001b[1;32mC:\\ProgramData\\anaconda3\\Lib\\site-packages\\tensorflow\\python\\eager\\polymorphic_function\\polymorphic_function.py:832\u001b[0m, in \u001b[0;36mFunction.__call__\u001b[1;34m(self, *args, **kwds)\u001b[0m\n\u001b[0;32m    829\u001b[0m compiler \u001b[38;5;241m=\u001b[39m \u001b[38;5;124m\"\u001b[39m\u001b[38;5;124mxla\u001b[39m\u001b[38;5;124m\"\u001b[39m \u001b[38;5;28;01mif\u001b[39;00m \u001b[38;5;28mself\u001b[39m\u001b[38;5;241m.\u001b[39m_jit_compile \u001b[38;5;28;01melse\u001b[39;00m \u001b[38;5;124m\"\u001b[39m\u001b[38;5;124mnonXla\u001b[39m\u001b[38;5;124m\"\u001b[39m\n\u001b[0;32m    831\u001b[0m \u001b[38;5;28;01mwith\u001b[39;00m OptionalXlaContext(\u001b[38;5;28mself\u001b[39m\u001b[38;5;241m.\u001b[39m_jit_compile):\n\u001b[1;32m--> 832\u001b[0m   result \u001b[38;5;241m=\u001b[39m \u001b[38;5;28mself\u001b[39m\u001b[38;5;241m.\u001b[39m_call(\u001b[38;5;241m*\u001b[39margs, \u001b[38;5;241m*\u001b[39m\u001b[38;5;241m*\u001b[39mkwds)\n\u001b[0;32m    834\u001b[0m new_tracing_count \u001b[38;5;241m=\u001b[39m \u001b[38;5;28mself\u001b[39m\u001b[38;5;241m.\u001b[39mexperimental_get_tracing_count()\n\u001b[0;32m    835\u001b[0m without_tracing \u001b[38;5;241m=\u001b[39m (tracing_count \u001b[38;5;241m==\u001b[39m new_tracing_count)\n",
      "File \u001b[1;32mC:\\ProgramData\\anaconda3\\Lib\\site-packages\\tensorflow\\python\\eager\\polymorphic_function\\polymorphic_function.py:868\u001b[0m, in \u001b[0;36mFunction._call\u001b[1;34m(self, *args, **kwds)\u001b[0m\n\u001b[0;32m    865\u001b[0m   \u001b[38;5;28mself\u001b[39m\u001b[38;5;241m.\u001b[39m_lock\u001b[38;5;241m.\u001b[39mrelease()\n\u001b[0;32m    866\u001b[0m   \u001b[38;5;66;03m# In this case we have created variables on the first call, so we run the\u001b[39;00m\n\u001b[0;32m    867\u001b[0m   \u001b[38;5;66;03m# defunned version which is guaranteed to never create variables.\u001b[39;00m\n\u001b[1;32m--> 868\u001b[0m   \u001b[38;5;28;01mreturn\u001b[39;00m tracing_compilation\u001b[38;5;241m.\u001b[39mcall_function(\n\u001b[0;32m    869\u001b[0m       args, kwds, \u001b[38;5;28mself\u001b[39m\u001b[38;5;241m.\u001b[39m_no_variable_creation_config\n\u001b[0;32m    870\u001b[0m   )\n\u001b[0;32m    871\u001b[0m \u001b[38;5;28;01melif\u001b[39;00m \u001b[38;5;28mself\u001b[39m\u001b[38;5;241m.\u001b[39m_variable_creation_config \u001b[38;5;129;01mis\u001b[39;00m \u001b[38;5;129;01mnot\u001b[39;00m \u001b[38;5;28;01mNone\u001b[39;00m:\n\u001b[0;32m    872\u001b[0m   \u001b[38;5;66;03m# Release the lock early so that multiple threads can perform the call\u001b[39;00m\n\u001b[0;32m    873\u001b[0m   \u001b[38;5;66;03m# in parallel.\u001b[39;00m\n\u001b[0;32m    874\u001b[0m   \u001b[38;5;28mself\u001b[39m\u001b[38;5;241m.\u001b[39m_lock\u001b[38;5;241m.\u001b[39mrelease()\n",
      "File \u001b[1;32mC:\\ProgramData\\anaconda3\\Lib\\site-packages\\tensorflow\\python\\eager\\polymorphic_function\\tracing_compilation.py:139\u001b[0m, in \u001b[0;36mcall_function\u001b[1;34m(args, kwargs, tracing_options)\u001b[0m\n\u001b[0;32m    137\u001b[0m bound_args \u001b[38;5;241m=\u001b[39m function\u001b[38;5;241m.\u001b[39mfunction_type\u001b[38;5;241m.\u001b[39mbind(\u001b[38;5;241m*\u001b[39margs, \u001b[38;5;241m*\u001b[39m\u001b[38;5;241m*\u001b[39mkwargs)\n\u001b[0;32m    138\u001b[0m flat_inputs \u001b[38;5;241m=\u001b[39m function\u001b[38;5;241m.\u001b[39mfunction_type\u001b[38;5;241m.\u001b[39munpack_inputs(bound_args)\n\u001b[1;32m--> 139\u001b[0m \u001b[38;5;28;01mreturn\u001b[39;00m function\u001b[38;5;241m.\u001b[39m_call_flat(  \u001b[38;5;66;03m# pylint: disable=protected-access\u001b[39;00m\n\u001b[0;32m    140\u001b[0m     flat_inputs, captured_inputs\u001b[38;5;241m=\u001b[39mfunction\u001b[38;5;241m.\u001b[39mcaptured_inputs\n\u001b[0;32m    141\u001b[0m )\n",
      "File \u001b[1;32mC:\\ProgramData\\anaconda3\\Lib\\site-packages\\tensorflow\\python\\eager\\polymorphic_function\\concrete_function.py:1323\u001b[0m, in \u001b[0;36mConcreteFunction._call_flat\u001b[1;34m(self, tensor_inputs, captured_inputs)\u001b[0m\n\u001b[0;32m   1319\u001b[0m possible_gradient_type \u001b[38;5;241m=\u001b[39m gradients_util\u001b[38;5;241m.\u001b[39mPossibleTapeGradientTypes(args)\n\u001b[0;32m   1320\u001b[0m \u001b[38;5;28;01mif\u001b[39;00m (possible_gradient_type \u001b[38;5;241m==\u001b[39m gradients_util\u001b[38;5;241m.\u001b[39mPOSSIBLE_GRADIENT_TYPES_NONE\n\u001b[0;32m   1321\u001b[0m     \u001b[38;5;129;01mand\u001b[39;00m executing_eagerly):\n\u001b[0;32m   1322\u001b[0m   \u001b[38;5;66;03m# No tape is watching; skip to running the function.\u001b[39;00m\n\u001b[1;32m-> 1323\u001b[0m   \u001b[38;5;28;01mreturn\u001b[39;00m \u001b[38;5;28mself\u001b[39m\u001b[38;5;241m.\u001b[39m_inference_function\u001b[38;5;241m.\u001b[39mcall_preflattened(args)\n\u001b[0;32m   1324\u001b[0m forward_backward \u001b[38;5;241m=\u001b[39m \u001b[38;5;28mself\u001b[39m\u001b[38;5;241m.\u001b[39m_select_forward_and_backward_functions(\n\u001b[0;32m   1325\u001b[0m     args,\n\u001b[0;32m   1326\u001b[0m     possible_gradient_type,\n\u001b[0;32m   1327\u001b[0m     executing_eagerly)\n\u001b[0;32m   1328\u001b[0m forward_function, args_with_tangents \u001b[38;5;241m=\u001b[39m forward_backward\u001b[38;5;241m.\u001b[39mforward()\n",
      "File \u001b[1;32mC:\\ProgramData\\anaconda3\\Lib\\site-packages\\tensorflow\\python\\eager\\polymorphic_function\\atomic_function.py:216\u001b[0m, in \u001b[0;36mAtomicFunction.call_preflattened\u001b[1;34m(self, args)\u001b[0m\n\u001b[0;32m    214\u001b[0m \u001b[38;5;28;01mdef\u001b[39;00m \u001b[38;5;21mcall_preflattened\u001b[39m(\u001b[38;5;28mself\u001b[39m, args: Sequence[core\u001b[38;5;241m.\u001b[39mTensor]) \u001b[38;5;241m-\u001b[39m\u001b[38;5;241m>\u001b[39m Any:\n\u001b[0;32m    215\u001b[0m \u001b[38;5;250m  \u001b[39m\u001b[38;5;124;03m\"\"\"Calls with flattened tensor inputs and returns the structured output.\"\"\"\u001b[39;00m\n\u001b[1;32m--> 216\u001b[0m   flat_outputs \u001b[38;5;241m=\u001b[39m \u001b[38;5;28mself\u001b[39m\u001b[38;5;241m.\u001b[39mcall_flat(\u001b[38;5;241m*\u001b[39margs)\n\u001b[0;32m    217\u001b[0m   \u001b[38;5;28;01mreturn\u001b[39;00m \u001b[38;5;28mself\u001b[39m\u001b[38;5;241m.\u001b[39mfunction_type\u001b[38;5;241m.\u001b[39mpack_output(flat_outputs)\n",
      "File \u001b[1;32mC:\\ProgramData\\anaconda3\\Lib\\site-packages\\tensorflow\\python\\eager\\polymorphic_function\\atomic_function.py:251\u001b[0m, in \u001b[0;36mAtomicFunction.call_flat\u001b[1;34m(self, *args)\u001b[0m\n\u001b[0;32m    249\u001b[0m \u001b[38;5;28;01mwith\u001b[39;00m record\u001b[38;5;241m.\u001b[39mstop_recording():\n\u001b[0;32m    250\u001b[0m   \u001b[38;5;28;01mif\u001b[39;00m \u001b[38;5;28mself\u001b[39m\u001b[38;5;241m.\u001b[39m_bound_context\u001b[38;5;241m.\u001b[39mexecuting_eagerly():\n\u001b[1;32m--> 251\u001b[0m     outputs \u001b[38;5;241m=\u001b[39m \u001b[38;5;28mself\u001b[39m\u001b[38;5;241m.\u001b[39m_bound_context\u001b[38;5;241m.\u001b[39mcall_function(\n\u001b[0;32m    252\u001b[0m         \u001b[38;5;28mself\u001b[39m\u001b[38;5;241m.\u001b[39mname,\n\u001b[0;32m    253\u001b[0m         \u001b[38;5;28mlist\u001b[39m(args),\n\u001b[0;32m    254\u001b[0m         \u001b[38;5;28mlen\u001b[39m(\u001b[38;5;28mself\u001b[39m\u001b[38;5;241m.\u001b[39mfunction_type\u001b[38;5;241m.\u001b[39mflat_outputs),\n\u001b[0;32m    255\u001b[0m     )\n\u001b[0;32m    256\u001b[0m   \u001b[38;5;28;01melse\u001b[39;00m:\n\u001b[0;32m    257\u001b[0m     outputs \u001b[38;5;241m=\u001b[39m make_call_op_in_graph(\n\u001b[0;32m    258\u001b[0m         \u001b[38;5;28mself\u001b[39m,\n\u001b[0;32m    259\u001b[0m         \u001b[38;5;28mlist\u001b[39m(args),\n\u001b[0;32m    260\u001b[0m         \u001b[38;5;28mself\u001b[39m\u001b[38;5;241m.\u001b[39m_bound_context\u001b[38;5;241m.\u001b[39mfunction_call_options\u001b[38;5;241m.\u001b[39mas_attrs(),\n\u001b[0;32m    261\u001b[0m     )\n",
      "File \u001b[1;32mC:\\ProgramData\\anaconda3\\Lib\\site-packages\\tensorflow\\python\\eager\\context.py:1486\u001b[0m, in \u001b[0;36mContext.call_function\u001b[1;34m(self, name, tensor_inputs, num_outputs)\u001b[0m\n\u001b[0;32m   1484\u001b[0m cancellation_context \u001b[38;5;241m=\u001b[39m cancellation\u001b[38;5;241m.\u001b[39mcontext()\n\u001b[0;32m   1485\u001b[0m \u001b[38;5;28;01mif\u001b[39;00m cancellation_context \u001b[38;5;129;01mis\u001b[39;00m \u001b[38;5;28;01mNone\u001b[39;00m:\n\u001b[1;32m-> 1486\u001b[0m   outputs \u001b[38;5;241m=\u001b[39m execute\u001b[38;5;241m.\u001b[39mexecute(\n\u001b[0;32m   1487\u001b[0m       name\u001b[38;5;241m.\u001b[39mdecode(\u001b[38;5;124m\"\u001b[39m\u001b[38;5;124mutf-8\u001b[39m\u001b[38;5;124m\"\u001b[39m),\n\u001b[0;32m   1488\u001b[0m       num_outputs\u001b[38;5;241m=\u001b[39mnum_outputs,\n\u001b[0;32m   1489\u001b[0m       inputs\u001b[38;5;241m=\u001b[39mtensor_inputs,\n\u001b[0;32m   1490\u001b[0m       attrs\u001b[38;5;241m=\u001b[39mattrs,\n\u001b[0;32m   1491\u001b[0m       ctx\u001b[38;5;241m=\u001b[39m\u001b[38;5;28mself\u001b[39m,\n\u001b[0;32m   1492\u001b[0m   )\n\u001b[0;32m   1493\u001b[0m \u001b[38;5;28;01melse\u001b[39;00m:\n\u001b[0;32m   1494\u001b[0m   outputs \u001b[38;5;241m=\u001b[39m execute\u001b[38;5;241m.\u001b[39mexecute_with_cancellation(\n\u001b[0;32m   1495\u001b[0m       name\u001b[38;5;241m.\u001b[39mdecode(\u001b[38;5;124m\"\u001b[39m\u001b[38;5;124mutf-8\u001b[39m\u001b[38;5;124m\"\u001b[39m),\n\u001b[0;32m   1496\u001b[0m       num_outputs\u001b[38;5;241m=\u001b[39mnum_outputs,\n\u001b[1;32m   (...)\u001b[0m\n\u001b[0;32m   1500\u001b[0m       cancellation_manager\u001b[38;5;241m=\u001b[39mcancellation_context,\n\u001b[0;32m   1501\u001b[0m   )\n",
      "File \u001b[1;32mC:\\ProgramData\\anaconda3\\Lib\\site-packages\\tensorflow\\python\\eager\\execute.py:53\u001b[0m, in \u001b[0;36mquick_execute\u001b[1;34m(op_name, num_outputs, inputs, attrs, ctx, name)\u001b[0m\n\u001b[0;32m     51\u001b[0m \u001b[38;5;28;01mtry\u001b[39;00m:\n\u001b[0;32m     52\u001b[0m   ctx\u001b[38;5;241m.\u001b[39mensure_initialized()\n\u001b[1;32m---> 53\u001b[0m   tensors \u001b[38;5;241m=\u001b[39m pywrap_tfe\u001b[38;5;241m.\u001b[39mTFE_Py_Execute(ctx\u001b[38;5;241m.\u001b[39m_handle, device_name, op_name,\n\u001b[0;32m     54\u001b[0m                                       inputs, attrs, num_outputs)\n\u001b[0;32m     55\u001b[0m \u001b[38;5;28;01mexcept\u001b[39;00m core\u001b[38;5;241m.\u001b[39m_NotOkStatusException \u001b[38;5;28;01mas\u001b[39;00m e:\n\u001b[0;32m     56\u001b[0m   \u001b[38;5;28;01mif\u001b[39;00m name \u001b[38;5;129;01mis\u001b[39;00m \u001b[38;5;129;01mnot\u001b[39;00m \u001b[38;5;28;01mNone\u001b[39;00m:\n",
      "\u001b[1;31mKeyboardInterrupt\u001b[0m: "
     ]
    }
   ],
   "source": [
    "# Number of global epochs\n",
    "comms_round = 40\n",
    "acc3 = []\n",
    "\n",
    "# Create an instance of the SimpleMLP class\n",
    "simple_mlp_model = SimpleMLP.build()\n",
    "\n",
    "# Define global_model before the loop\n",
    "global_model = simple_mlp_model\n",
    "\n",
    "for comm_round in range(comms_round):\n",
    "    # Get the global model's weights - will serve as the initial weights for all local models\n",
    "    global_weights = global_model.get_weights()\n",
    "\n",
    "    # Initial list to collect local model weights after scaling\n",
    "    local_weight_list = []\n",
    "\n",
    "    # Randomize client data - using keys\n",
    "    client_names = list(clients_batched.keys())\n",
    "    # random.shuffle(client_names)\n",
    "\n",
    "    for client in tqdm(client_names, desc='Progress Bar'):\n",
    "        local_model = simple_mlp_model\n",
    "        local_model.compile(\n",
    "            loss='categorical_crossentropy',\n",
    "            optimizer=tf.keras.optimizers.Adam(),  # Using recommended optimizer creation method\n",
    "            metrics=['accuracy']\n",
    "        )\n",
    "\n",
    "        # Set local model weight to the weight of the global model\n",
    "        local_model.set_weights(global_weights)\n",
    "\n",
    "        # Fit local model with client's data\n",
    "        local_model.fit(\n",
    "            np.array(clients_batched[client][0]),\n",
    "            np.array(clients_batched[client][1]),\n",
    "            epochs=2,\n",
    "            batch_size=32,\n",
    "            verbose=2\n",
    "        )\n",
    "\n",
    "        # Get the scaled model weights and add to the list\n",
    "        weights = local_model.get_weights()\n",
    "        local_weight_list.append(weights)\n",
    "\n",
    "        # Clear the session to free memory after each communication round\n",
    "        K.clear_session()\n",
    "\n",
    "    # Calculate the average weights across all clients for each layer\n",
    "    average_weights = avg_weights(local_weight_list)\n",
    "\n",
    "    # Update the global model with the average weights\n",
    "    global_model.set_weights(average_weights)\n",
    "\n",
    "    # Test the global model and print out metrics after each communications round\n",
    "    global_acc, global_loss = test_model(x_test, y_test, global_model, comm_round)\n",
    "    acc3.append(global_acc)\n"
   ]
  },
  {
   "cell_type": "code",
   "execution_count": 14,
   "id": "938f2331",
   "metadata": {},
   "outputs": [
    {
     "data": {
      "text/plain": [
       "array([[0., 0., 0., ..., 0., 0., 0.],\n",
       "       [0., 0., 0., ..., 0., 1., 0.],\n",
       "       [0., 0., 0., ..., 0., 1., 0.],\n",
       "       ...,\n",
       "       [0., 0., 0., ..., 0., 0., 0.],\n",
       "       [0., 1., 0., ..., 0., 0., 0.],\n",
       "       [0., 0., 0., ..., 1., 0., 0.]], dtype=float32)"
      ]
     },
     "execution_count": 14,
     "metadata": {},
     "output_type": "execute_result"
    }
   ],
   "source": [
    "y_test"
   ]
  },
  {
   "cell_type": "code",
   "execution_count": 15,
   "id": "5ad58b75",
   "metadata": {},
   "outputs": [
    {
     "name": "stdout",
     "output_type": "stream",
     "text": [
      "313/313 [==============================] - 31s 97ms/step\n"
     ]
    },
    {
     "data": {
      "text/plain": [
       "array([5.1531265e-03, 3.1773993e-04, 9.3321791e-03, 9.0133786e-01,\n",
       "       1.2040556e-02, 6.1064530e-02, 1.2498050e-03, 5.1426473e-03,\n",
       "       1.3783006e-03, 2.9833007e-03], dtype=float32)"
      ]
     },
     "execution_count": 15,
     "metadata": {},
     "output_type": "execute_result"
    }
   ],
   "source": [
    "global_model.predict(x_test)[0]"
   ]
  },
  {
   "cell_type": "code",
   "execution_count": 16,
   "id": "3251cbbe",
   "metadata": {},
   "outputs": [
    {
     "data": {
      "text/plain": [
       "array([[0., 0., 0., ..., 0., 0., 0.],\n",
       "       [0., 0., 0., ..., 0., 0., 1.],\n",
       "       [0., 0., 0., ..., 0., 0., 1.],\n",
       "       ...,\n",
       "       [0., 0., 0., ..., 0., 0., 0.],\n",
       "       [0., 0., 0., ..., 0., 1., 0.],\n",
       "       [0., 0., 0., ..., 0., 0., 1.]], dtype=float32)"
      ]
     },
     "execution_count": 16,
     "metadata": {},
     "output_type": "execute_result"
    }
   ],
   "source": [
    "label1"
   ]
  },
  {
   "cell_type": "code",
   "execution_count": 17,
   "id": "30aed4bf",
   "metadata": {
    "scrolled": true
   },
   "outputs": [
    {
     "data": {
      "text/plain": [
       "[<matplotlib.lines.Line2D at 0x26c97d3f410>]"
      ]
     },
     "execution_count": 17,
     "metadata": {},
     "output_type": "execute_result"
    },
    {
     "data": {
      "image/png": "[encoded data removed]",
      "text/plain": [
       "<Figure size 640x480 with 1 Axes>"
      ]
     },
     "metadata": {},
     "output_type": "display_data"
    }
   ],
   "source": [
    "import matplotlib.pyplot as plt\n",
    "plt.plot(acc3)"
   ]
  },
  {
   "cell_type": "code",
   "execution_count": 18,
   "id": "54158cb8",
   "metadata": {},
   "outputs": [],
   "source": [
    "acc3= np.array(acc3)"
   ]
  },
  {
   "cell_type": "code",
   "execution_count": null,
   "id": "9c5cc3e8",
   "metadata": {
    "collapsed": true
   },
   "outputs": [],
   "source": []
  },
  {
   "cell_type": "code",
   "execution_count": 19,
   "id": "d6dc493f",
   "metadata": {},
   "outputs": [
    {
     "ename": "NameError",
     "evalue": "name 'test' is not defined",
     "output_type": "error",
     "traceback": [
      "\u001b[1;31m---------------------------------------------------------------------------\u001b[0m",
      "\u001b[1;31mNameError\u001b[0m                                 Traceback (most recent call last)",
      "Cell \u001b[1;32mIn[19], line 1\u001b[0m\n\u001b[1;32m----> 1\u001b[0m global_model\u001b[38;5;241m.\u001b[39mevaluate(test,one_hot_labels)\n",
      "\u001b[1;31mNameError\u001b[0m: name 'test' is not defined"
     ]
    }
   ],
   "source": []
  },
  {
   "cell_type": "code",
   "execution_count": 22,
   "id": "c88dc981",
   "metadata": {},
   "outputs": [],
   "source": [
    "np.save(\"acc_fedavg_cifar10.npy\",acc3)"
   ]
  },
  {
   "cell_type": "code",
   "execution_count": 23,
   "id": "4787bf9a",
   "metadata": {},
   "outputs": [
    {
     "name": "stderr",
     "output_type": "stream",
     "text": [
      "C:\\ProgramData\\anaconda3\\Lib\\site-packages\\keras\\src\\engine\\training.py:3103: UserWarning: You are saving your model as an HDF5 file via `model.save()`. This file format is considered legacy. We recommend using instead the native Keras format, e.g. `model.save('my_model.keras')`.\n",
      "  saving_api.save_model(\n"
     ]
    }
   ],
   "source": [
    "global_model.save(\"fedavg_cifar10.h5\")"
   ]
  },
  {
   "cell_type": "code",
   "execution_count": 24,
   "id": "78999b1d",
   "metadata": {},
   "outputs": [],
   "source": [
    "a=np.load(\"acc_fedavg_cifar10.npy\")"
   ]
  },
  {
   "cell_type": "code",
   "execution_count": 25,
   "id": "04e5db41",
   "metadata": {},
   "outputs": [
    {
     "data": {
      "text/plain": [
       "[<matplotlib.lines.Line2D at 0x26cd2d03810>]"
      ]
     },
     "execution_count": 25,
     "metadata": {},
     "output_type": "execute_result"
    },
    {
     "data": {
      "image/png": "[encoded data removed]",
      "text/plain": [
       "<Figure size 640x480 with 1 Axes>"
      ]
     },
     "metadata": {},
     "output_type": "display_data"
    }
   ],
   "source": [
    "plt.plot(a)"
   ]
  },
  {
   "cell_type": "code",
   "execution_count": null,
   "id": "b46fa6af",
   "metadata": {},
   "outputs": [],
   "source": []
  }
 ],
 "metadata": {
  "kernelspec": {
   "display_name": "Python 3 (ipykernel)",
   "language": "python",
   "name": "python3"
  },
  "language_info": {
   "codemirror_mode": {
    "name": "ipython",
    "version": 3
   },
   "file_extension": ".py",
   "mimetype": "text/x-python",
   "name": "python",
   "nbconvert_exporter": "python",
   "pygments_lexer": "ipython3",
   "version": "3.11.5"
  }
 },
 "nbformat": 4,
 "nbformat_minor": 5
}
